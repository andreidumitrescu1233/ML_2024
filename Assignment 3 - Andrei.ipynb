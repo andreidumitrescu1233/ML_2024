{
 "cells": [
  {
   "cell_type": "markdown",
   "id": "43554d37",
   "metadata": {},
   "source": [
    "# Turing Machine and Deep Learning 2023\n",
    "\n",
    "## Assignment Unupervised ML\n",
    "\n",
    "This notebook is meant for you to review and reflect on the content of Lecture 3, which was mainly about unsupervised learning problems. As with last week, this notebook should not be too much quantitative work (lines of code) but keep in mind that running this notebook may take a longer time than you may be used to for python programs (*training good models take time!*) \n",
    "\n",
    "### Handing in your Assignment\n",
    "\n",
    "Git is an invaluable resource to researchers and developers, and thus for this course, all course material will be (additionally) shared on GitHub. Though there is a tiny bit of a learning curve, this is worth the effort. To hand in your assignment (applicable to all weeks):\n",
    "\n",
    "1. Create a folder called \"Week 2\" and copy this notebook and any other files or data that may be needed.\n",
    "2. Finish the notebook and commit and push regularly. Your final commit before the deadline will be graded. \n",
    "\n",
    "\n",
    "### Grading\n",
    "\n",
    "Each one of the (sub-)questions below will be graded either 0 (insufficient), 1 (sufficient) or 2 (good). If $N$ is the number of sub-questions, and $p_i$ is your score for sub-question $i$, your total grade $G$ for this assignment is:\n",
    "$$G=\\frac{1}{2 N}\\sum_{i=0}^{N}p_i$$"
   ]
  },
  {
   "cell_type": "code",
   "execution_count": 2,
   "id": "52fbab8b",
   "metadata": {},
   "outputs": [],
   "source": [
    "# load common libraries\n",
    "import numpy as np                 # maths\n",
    "import matplotlib.pyplot as plt    # plotting\n",
    "import pandas as pd                # data manipulation\n",
    "from tqdm import tqdm              # loading bar\n",
    "from time import perf_counter      # timer"
   ]
  },
  {
   "cell_type": "markdown",
   "id": "bf4c3a0a",
   "metadata": {},
   "source": [
    "# Q1 Loading and preprocessing data\n",
    "\n",
    "In this repository, you should find a file called `tmdb_5000_movies.csv` which is information from a subset of movies on The Movie Database."
   ]
  },
  {
   "cell_type": "markdown",
   "id": "40715541",
   "metadata": {},
   "source": [
    "### Q.1.1 \n",
    "Use pandas to read in the csv file (refer to [read_csv](https://pandas.pydata.org/docs/reference/api/pandas.read_csv.html) if you're unfamiliar)."
   ]
  },
  {
   "cell_type": "code",
   "execution_count": 3,
   "id": "c10a5202",
   "metadata": {},
   "outputs": [],
   "source": [
    "df = pd.read_csv(\"/Users/andre/OneDrive - Erasmus University Rotterdam/Turing Students/5000_movies.csv\")"
   ]
  },
  {
   "cell_type": "code",
   "execution_count": 4,
   "id": "11a7c42d",
   "metadata": {},
   "outputs": [
    {
     "data": {
      "text/html": [
       "<div>\n",
       "<style scoped>\n",
       "    .dataframe tbody tr th:only-of-type {\n",
       "        vertical-align: middle;\n",
       "    }\n",
       "\n",
       "    .dataframe tbody tr th {\n",
       "        vertical-align: top;\n",
       "    }\n",
       "\n",
       "    .dataframe thead th {\n",
       "        text-align: right;\n",
       "    }\n",
       "</style>\n",
       "<table border=\"1\" class=\"dataframe\">\n",
       "  <thead>\n",
       "    <tr style=\"text-align: right;\">\n",
       "      <th></th>\n",
       "      <th>budget</th>\n",
       "      <th>genres</th>\n",
       "      <th>homepage</th>\n",
       "      <th>id</th>\n",
       "      <th>keywords</th>\n",
       "      <th>original_language</th>\n",
       "      <th>original_title</th>\n",
       "      <th>overview</th>\n",
       "      <th>popularity</th>\n",
       "      <th>production_companies</th>\n",
       "      <th>production_countries</th>\n",
       "      <th>release_date</th>\n",
       "      <th>revenue</th>\n",
       "      <th>runtime</th>\n",
       "      <th>spoken_languages</th>\n",
       "      <th>status</th>\n",
       "      <th>tagline</th>\n",
       "      <th>title</th>\n",
       "      <th>vote_average</th>\n",
       "      <th>vote_count</th>\n",
       "    </tr>\n",
       "  </thead>\n",
       "  <tbody>\n",
       "    <tr>\n",
       "      <th>0</th>\n",
       "      <td>237000000</td>\n",
       "      <td>[{\"id\": 28, \"name\": \"Action\"}, {\"id\": 12, \"nam...</td>\n",
       "      <td>http://www.avatarmovie.com/</td>\n",
       "      <td>19995</td>\n",
       "      <td>[{\"id\": 1463, \"name\": \"culture clash\"}, {\"id\":...</td>\n",
       "      <td>en</td>\n",
       "      <td>Avatar</td>\n",
       "      <td>In the 22nd century, a paraplegic Marine is di...</td>\n",
       "      <td>150.437577</td>\n",
       "      <td>[{\"name\": \"Ingenious Film Partners\", \"id\": 289...</td>\n",
       "      <td>[{\"iso_3166_1\": \"US\", \"name\": \"United States o...</td>\n",
       "      <td>2009-12-10</td>\n",
       "      <td>2787965087</td>\n",
       "      <td>162.0</td>\n",
       "      <td>[{\"iso_639_1\": \"en\", \"name\": \"English\"}, {\"iso...</td>\n",
       "      <td>Released</td>\n",
       "      <td>Enter the World of Pandora.</td>\n",
       "      <td>Avatar</td>\n",
       "      <td>7.2</td>\n",
       "      <td>11800</td>\n",
       "    </tr>\n",
       "    <tr>\n",
       "      <th>1</th>\n",
       "      <td>300000000</td>\n",
       "      <td>[{\"id\": 12, \"name\": \"Adventure\"}, {\"id\": 14, \"...</td>\n",
       "      <td>http://disney.go.com/disneypictures/pirates/</td>\n",
       "      <td>285</td>\n",
       "      <td>[{\"id\": 270, \"name\": \"ocean\"}, {\"id\": 726, \"na...</td>\n",
       "      <td>en</td>\n",
       "      <td>Pirates of the Caribbean: At World's End</td>\n",
       "      <td>Captain Barbossa, long believed to be dead, ha...</td>\n",
       "      <td>139.082615</td>\n",
       "      <td>[{\"name\": \"Walt Disney Pictures\", \"id\": 2}, {\"...</td>\n",
       "      <td>[{\"iso_3166_1\": \"US\", \"name\": \"United States o...</td>\n",
       "      <td>2007-05-19</td>\n",
       "      <td>961000000</td>\n",
       "      <td>169.0</td>\n",
       "      <td>[{\"iso_639_1\": \"en\", \"name\": \"English\"}]</td>\n",
       "      <td>Released</td>\n",
       "      <td>At the end of the world, the adventure begins.</td>\n",
       "      <td>Pirates of the Caribbean: At World's End</td>\n",
       "      <td>6.9</td>\n",
       "      <td>4500</td>\n",
       "    </tr>\n",
       "    <tr>\n",
       "      <th>2</th>\n",
       "      <td>245000000</td>\n",
       "      <td>[{\"id\": 28, \"name\": \"Action\"}, {\"id\": 12, \"nam...</td>\n",
       "      <td>http://www.sonypictures.com/movies/spectre/</td>\n",
       "      <td>206647</td>\n",
       "      <td>[{\"id\": 470, \"name\": \"spy\"}, {\"id\": 818, \"name...</td>\n",
       "      <td>en</td>\n",
       "      <td>Spectre</td>\n",
       "      <td>A cryptic message from Bond’s past sends him o...</td>\n",
       "      <td>107.376788</td>\n",
       "      <td>[{\"name\": \"Columbia Pictures\", \"id\": 5}, {\"nam...</td>\n",
       "      <td>[{\"iso_3166_1\": \"GB\", \"name\": \"United Kingdom\"...</td>\n",
       "      <td>2015-10-26</td>\n",
       "      <td>880674609</td>\n",
       "      <td>148.0</td>\n",
       "      <td>[{\"iso_639_1\": \"fr\", \"name\": \"Fran\\u00e7ais\"},...</td>\n",
       "      <td>Released</td>\n",
       "      <td>A Plan No One Escapes</td>\n",
       "      <td>Spectre</td>\n",
       "      <td>6.3</td>\n",
       "      <td>4466</td>\n",
       "    </tr>\n",
       "    <tr>\n",
       "      <th>3</th>\n",
       "      <td>250000000</td>\n",
       "      <td>[{\"id\": 28, \"name\": \"Action\"}, {\"id\": 80, \"nam...</td>\n",
       "      <td>http://www.thedarkknightrises.com/</td>\n",
       "      <td>49026</td>\n",
       "      <td>[{\"id\": 849, \"name\": \"dc comics\"}, {\"id\": 853,...</td>\n",
       "      <td>en</td>\n",
       "      <td>The Dark Knight Rises</td>\n",
       "      <td>Following the death of District Attorney Harve...</td>\n",
       "      <td>112.312950</td>\n",
       "      <td>[{\"name\": \"Legendary Pictures\", \"id\": 923}, {\"...</td>\n",
       "      <td>[{\"iso_3166_1\": \"US\", \"name\": \"United States o...</td>\n",
       "      <td>2012-07-16</td>\n",
       "      <td>1084939099</td>\n",
       "      <td>165.0</td>\n",
       "      <td>[{\"iso_639_1\": \"en\", \"name\": \"English\"}]</td>\n",
       "      <td>Released</td>\n",
       "      <td>The Legend Ends</td>\n",
       "      <td>The Dark Knight Rises</td>\n",
       "      <td>7.6</td>\n",
       "      <td>9106</td>\n",
       "    </tr>\n",
       "    <tr>\n",
       "      <th>4</th>\n",
       "      <td>260000000</td>\n",
       "      <td>[{\"id\": 28, \"name\": \"Action\"}, {\"id\": 12, \"nam...</td>\n",
       "      <td>http://movies.disney.com/john-carter</td>\n",
       "      <td>49529</td>\n",
       "      <td>[{\"id\": 818, \"name\": \"based on novel\"}, {\"id\":...</td>\n",
       "      <td>en</td>\n",
       "      <td>John Carter</td>\n",
       "      <td>John Carter is a war-weary, former military ca...</td>\n",
       "      <td>43.926995</td>\n",
       "      <td>[{\"name\": \"Walt Disney Pictures\", \"id\": 2}]</td>\n",
       "      <td>[{\"iso_3166_1\": \"US\", \"name\": \"United States o...</td>\n",
       "      <td>2012-03-07</td>\n",
       "      <td>284139100</td>\n",
       "      <td>132.0</td>\n",
       "      <td>[{\"iso_639_1\": \"en\", \"name\": \"English\"}]</td>\n",
       "      <td>Released</td>\n",
       "      <td>Lost in our world, found in another.</td>\n",
       "      <td>John Carter</td>\n",
       "      <td>6.1</td>\n",
       "      <td>2124</td>\n",
       "    </tr>\n",
       "    <tr>\n",
       "      <th>...</th>\n",
       "      <td>...</td>\n",
       "      <td>...</td>\n",
       "      <td>...</td>\n",
       "      <td>...</td>\n",
       "      <td>...</td>\n",
       "      <td>...</td>\n",
       "      <td>...</td>\n",
       "      <td>...</td>\n",
       "      <td>...</td>\n",
       "      <td>...</td>\n",
       "      <td>...</td>\n",
       "      <td>...</td>\n",
       "      <td>...</td>\n",
       "      <td>...</td>\n",
       "      <td>...</td>\n",
       "      <td>...</td>\n",
       "      <td>...</td>\n",
       "      <td>...</td>\n",
       "      <td>...</td>\n",
       "      <td>...</td>\n",
       "    </tr>\n",
       "    <tr>\n",
       "      <th>4798</th>\n",
       "      <td>220000</td>\n",
       "      <td>[{\"id\": 28, \"name\": \"Action\"}, {\"id\": 80, \"nam...</td>\n",
       "      <td>NaN</td>\n",
       "      <td>9367</td>\n",
       "      <td>[{\"id\": 5616, \"name\": \"united states\\u2013mexi...</td>\n",
       "      <td>es</td>\n",
       "      <td>El Mariachi</td>\n",
       "      <td>El Mariachi just wants to play his guitar and ...</td>\n",
       "      <td>14.269792</td>\n",
       "      <td>[{\"name\": \"Columbia Pictures\", \"id\": 5}]</td>\n",
       "      <td>[{\"iso_3166_1\": \"MX\", \"name\": \"Mexico\"}, {\"iso...</td>\n",
       "      <td>1992-09-04</td>\n",
       "      <td>2040920</td>\n",
       "      <td>81.0</td>\n",
       "      <td>[{\"iso_639_1\": \"es\", \"name\": \"Espa\\u00f1ol\"}]</td>\n",
       "      <td>Released</td>\n",
       "      <td>He didn't come looking for trouble, but troubl...</td>\n",
       "      <td>El Mariachi</td>\n",
       "      <td>6.6</td>\n",
       "      <td>238</td>\n",
       "    </tr>\n",
       "    <tr>\n",
       "      <th>4799</th>\n",
       "      <td>9000</td>\n",
       "      <td>[{\"id\": 35, \"name\": \"Comedy\"}, {\"id\": 10749, \"...</td>\n",
       "      <td>NaN</td>\n",
       "      <td>72766</td>\n",
       "      <td>[]</td>\n",
       "      <td>en</td>\n",
       "      <td>Newlyweds</td>\n",
       "      <td>A newlywed couple's honeymoon is upended by th...</td>\n",
       "      <td>0.642552</td>\n",
       "      <td>[]</td>\n",
       "      <td>[]</td>\n",
       "      <td>2011-12-26</td>\n",
       "      <td>0</td>\n",
       "      <td>85.0</td>\n",
       "      <td>[]</td>\n",
       "      <td>Released</td>\n",
       "      <td>A newlywed couple's honeymoon is upended by th...</td>\n",
       "      <td>Newlyweds</td>\n",
       "      <td>5.9</td>\n",
       "      <td>5</td>\n",
       "    </tr>\n",
       "    <tr>\n",
       "      <th>4800</th>\n",
       "      <td>0</td>\n",
       "      <td>[{\"id\": 35, \"name\": \"Comedy\"}, {\"id\": 18, \"nam...</td>\n",
       "      <td>http://www.hallmarkchannel.com/signedsealeddel...</td>\n",
       "      <td>231617</td>\n",
       "      <td>[{\"id\": 248, \"name\": \"date\"}, {\"id\": 699, \"nam...</td>\n",
       "      <td>en</td>\n",
       "      <td>Signed, Sealed, Delivered</td>\n",
       "      <td>\"Signed, Sealed, Delivered\" introduces a dedic...</td>\n",
       "      <td>1.444476</td>\n",
       "      <td>[{\"name\": \"Front Street Pictures\", \"id\": 3958}...</td>\n",
       "      <td>[{\"iso_3166_1\": \"US\", \"name\": \"United States o...</td>\n",
       "      <td>2013-10-13</td>\n",
       "      <td>0</td>\n",
       "      <td>120.0</td>\n",
       "      <td>[{\"iso_639_1\": \"en\", \"name\": \"English\"}]</td>\n",
       "      <td>Released</td>\n",
       "      <td>NaN</td>\n",
       "      <td>Signed, Sealed, Delivered</td>\n",
       "      <td>7.0</td>\n",
       "      <td>6</td>\n",
       "    </tr>\n",
       "    <tr>\n",
       "      <th>4801</th>\n",
       "      <td>0</td>\n",
       "      <td>[]</td>\n",
       "      <td>http://shanghaicalling.com/</td>\n",
       "      <td>126186</td>\n",
       "      <td>[]</td>\n",
       "      <td>en</td>\n",
       "      <td>Shanghai Calling</td>\n",
       "      <td>When ambitious New York attorney Sam is sent t...</td>\n",
       "      <td>0.857008</td>\n",
       "      <td>[]</td>\n",
       "      <td>[{\"iso_3166_1\": \"US\", \"name\": \"United States o...</td>\n",
       "      <td>2012-05-03</td>\n",
       "      <td>0</td>\n",
       "      <td>98.0</td>\n",
       "      <td>[{\"iso_639_1\": \"en\", \"name\": \"English\"}]</td>\n",
       "      <td>Released</td>\n",
       "      <td>A New Yorker in Shanghai</td>\n",
       "      <td>Shanghai Calling</td>\n",
       "      <td>5.7</td>\n",
       "      <td>7</td>\n",
       "    </tr>\n",
       "    <tr>\n",
       "      <th>4802</th>\n",
       "      <td>0</td>\n",
       "      <td>[{\"id\": 99, \"name\": \"Documentary\"}]</td>\n",
       "      <td>NaN</td>\n",
       "      <td>25975</td>\n",
       "      <td>[{\"id\": 1523, \"name\": \"obsession\"}, {\"id\": 224...</td>\n",
       "      <td>en</td>\n",
       "      <td>My Date with Drew</td>\n",
       "      <td>Ever since the second grade when he first saw ...</td>\n",
       "      <td>1.929883</td>\n",
       "      <td>[{\"name\": \"rusty bear entertainment\", \"id\": 87...</td>\n",
       "      <td>[{\"iso_3166_1\": \"US\", \"name\": \"United States o...</td>\n",
       "      <td>2005-08-05</td>\n",
       "      <td>0</td>\n",
       "      <td>90.0</td>\n",
       "      <td>[{\"iso_639_1\": \"en\", \"name\": \"English\"}]</td>\n",
       "      <td>Released</td>\n",
       "      <td>NaN</td>\n",
       "      <td>My Date with Drew</td>\n",
       "      <td>6.3</td>\n",
       "      <td>16</td>\n",
       "    </tr>\n",
       "  </tbody>\n",
       "</table>\n",
       "<p>4803 rows × 20 columns</p>\n",
       "</div>"
      ],
      "text/plain": [
       "         budget                                             genres  \\\n",
       "0     237000000  [{\"id\": 28, \"name\": \"Action\"}, {\"id\": 12, \"nam...   \n",
       "1     300000000  [{\"id\": 12, \"name\": \"Adventure\"}, {\"id\": 14, \"...   \n",
       "2     245000000  [{\"id\": 28, \"name\": \"Action\"}, {\"id\": 12, \"nam...   \n",
       "3     250000000  [{\"id\": 28, \"name\": \"Action\"}, {\"id\": 80, \"nam...   \n",
       "4     260000000  [{\"id\": 28, \"name\": \"Action\"}, {\"id\": 12, \"nam...   \n",
       "...         ...                                                ...   \n",
       "4798     220000  [{\"id\": 28, \"name\": \"Action\"}, {\"id\": 80, \"nam...   \n",
       "4799       9000  [{\"id\": 35, \"name\": \"Comedy\"}, {\"id\": 10749, \"...   \n",
       "4800          0  [{\"id\": 35, \"name\": \"Comedy\"}, {\"id\": 18, \"nam...   \n",
       "4801          0                                                 []   \n",
       "4802          0                [{\"id\": 99, \"name\": \"Documentary\"}]   \n",
       "\n",
       "                                               homepage      id  \\\n",
       "0                           http://www.avatarmovie.com/   19995   \n",
       "1          http://disney.go.com/disneypictures/pirates/     285   \n",
       "2           http://www.sonypictures.com/movies/spectre/  206647   \n",
       "3                    http://www.thedarkknightrises.com/   49026   \n",
       "4                  http://movies.disney.com/john-carter   49529   \n",
       "...                                                 ...     ...   \n",
       "4798                                                NaN    9367   \n",
       "4799                                                NaN   72766   \n",
       "4800  http://www.hallmarkchannel.com/signedsealeddel...  231617   \n",
       "4801                        http://shanghaicalling.com/  126186   \n",
       "4802                                                NaN   25975   \n",
       "\n",
       "                                               keywords original_language  \\\n",
       "0     [{\"id\": 1463, \"name\": \"culture clash\"}, {\"id\":...                en   \n",
       "1     [{\"id\": 270, \"name\": \"ocean\"}, {\"id\": 726, \"na...                en   \n",
       "2     [{\"id\": 470, \"name\": \"spy\"}, {\"id\": 818, \"name...                en   \n",
       "3     [{\"id\": 849, \"name\": \"dc comics\"}, {\"id\": 853,...                en   \n",
       "4     [{\"id\": 818, \"name\": \"based on novel\"}, {\"id\":...                en   \n",
       "...                                                 ...               ...   \n",
       "4798  [{\"id\": 5616, \"name\": \"united states\\u2013mexi...                es   \n",
       "4799                                                 []                en   \n",
       "4800  [{\"id\": 248, \"name\": \"date\"}, {\"id\": 699, \"nam...                en   \n",
       "4801                                                 []                en   \n",
       "4802  [{\"id\": 1523, \"name\": \"obsession\"}, {\"id\": 224...                en   \n",
       "\n",
       "                                original_title  \\\n",
       "0                                       Avatar   \n",
       "1     Pirates of the Caribbean: At World's End   \n",
       "2                                      Spectre   \n",
       "3                        The Dark Knight Rises   \n",
       "4                                  John Carter   \n",
       "...                                        ...   \n",
       "4798                               El Mariachi   \n",
       "4799                                 Newlyweds   \n",
       "4800                 Signed, Sealed, Delivered   \n",
       "4801                          Shanghai Calling   \n",
       "4802                         My Date with Drew   \n",
       "\n",
       "                                               overview  popularity  \\\n",
       "0     In the 22nd century, a paraplegic Marine is di...  150.437577   \n",
       "1     Captain Barbossa, long believed to be dead, ha...  139.082615   \n",
       "2     A cryptic message from Bond’s past sends him o...  107.376788   \n",
       "3     Following the death of District Attorney Harve...  112.312950   \n",
       "4     John Carter is a war-weary, former military ca...   43.926995   \n",
       "...                                                 ...         ...   \n",
       "4798  El Mariachi just wants to play his guitar and ...   14.269792   \n",
       "4799  A newlywed couple's honeymoon is upended by th...    0.642552   \n",
       "4800  \"Signed, Sealed, Delivered\" introduces a dedic...    1.444476   \n",
       "4801  When ambitious New York attorney Sam is sent t...    0.857008   \n",
       "4802  Ever since the second grade when he first saw ...    1.929883   \n",
       "\n",
       "                                   production_companies  \\\n",
       "0     [{\"name\": \"Ingenious Film Partners\", \"id\": 289...   \n",
       "1     [{\"name\": \"Walt Disney Pictures\", \"id\": 2}, {\"...   \n",
       "2     [{\"name\": \"Columbia Pictures\", \"id\": 5}, {\"nam...   \n",
       "3     [{\"name\": \"Legendary Pictures\", \"id\": 923}, {\"...   \n",
       "4           [{\"name\": \"Walt Disney Pictures\", \"id\": 2}]   \n",
       "...                                                 ...   \n",
       "4798           [{\"name\": \"Columbia Pictures\", \"id\": 5}]   \n",
       "4799                                                 []   \n",
       "4800  [{\"name\": \"Front Street Pictures\", \"id\": 3958}...   \n",
       "4801                                                 []   \n",
       "4802  [{\"name\": \"rusty bear entertainment\", \"id\": 87...   \n",
       "\n",
       "                                   production_countries release_date  \\\n",
       "0     [{\"iso_3166_1\": \"US\", \"name\": \"United States o...   2009-12-10   \n",
       "1     [{\"iso_3166_1\": \"US\", \"name\": \"United States o...   2007-05-19   \n",
       "2     [{\"iso_3166_1\": \"GB\", \"name\": \"United Kingdom\"...   2015-10-26   \n",
       "3     [{\"iso_3166_1\": \"US\", \"name\": \"United States o...   2012-07-16   \n",
       "4     [{\"iso_3166_1\": \"US\", \"name\": \"United States o...   2012-03-07   \n",
       "...                                                 ...          ...   \n",
       "4798  [{\"iso_3166_1\": \"MX\", \"name\": \"Mexico\"}, {\"iso...   1992-09-04   \n",
       "4799                                                 []   2011-12-26   \n",
       "4800  [{\"iso_3166_1\": \"US\", \"name\": \"United States o...   2013-10-13   \n",
       "4801  [{\"iso_3166_1\": \"US\", \"name\": \"United States o...   2012-05-03   \n",
       "4802  [{\"iso_3166_1\": \"US\", \"name\": \"United States o...   2005-08-05   \n",
       "\n",
       "         revenue  runtime                                   spoken_languages  \\\n",
       "0     2787965087    162.0  [{\"iso_639_1\": \"en\", \"name\": \"English\"}, {\"iso...   \n",
       "1      961000000    169.0           [{\"iso_639_1\": \"en\", \"name\": \"English\"}]   \n",
       "2      880674609    148.0  [{\"iso_639_1\": \"fr\", \"name\": \"Fran\\u00e7ais\"},...   \n",
       "3     1084939099    165.0           [{\"iso_639_1\": \"en\", \"name\": \"English\"}]   \n",
       "4      284139100    132.0           [{\"iso_639_1\": \"en\", \"name\": \"English\"}]   \n",
       "...          ...      ...                                                ...   \n",
       "4798     2040920     81.0      [{\"iso_639_1\": \"es\", \"name\": \"Espa\\u00f1ol\"}]   \n",
       "4799           0     85.0                                                 []   \n",
       "4800           0    120.0           [{\"iso_639_1\": \"en\", \"name\": \"English\"}]   \n",
       "4801           0     98.0           [{\"iso_639_1\": \"en\", \"name\": \"English\"}]   \n",
       "4802           0     90.0           [{\"iso_639_1\": \"en\", \"name\": \"English\"}]   \n",
       "\n",
       "        status                                            tagline  \\\n",
       "0     Released                        Enter the World of Pandora.   \n",
       "1     Released     At the end of the world, the adventure begins.   \n",
       "2     Released                              A Plan No One Escapes   \n",
       "3     Released                                    The Legend Ends   \n",
       "4     Released               Lost in our world, found in another.   \n",
       "...        ...                                                ...   \n",
       "4798  Released  He didn't come looking for trouble, but troubl...   \n",
       "4799  Released  A newlywed couple's honeymoon is upended by th...   \n",
       "4800  Released                                                NaN   \n",
       "4801  Released                           A New Yorker in Shanghai   \n",
       "4802  Released                                                NaN   \n",
       "\n",
       "                                         title  vote_average  vote_count  \n",
       "0                                       Avatar           7.2       11800  \n",
       "1     Pirates of the Caribbean: At World's End           6.9        4500  \n",
       "2                                      Spectre           6.3        4466  \n",
       "3                        The Dark Knight Rises           7.6        9106  \n",
       "4                                  John Carter           6.1        2124  \n",
       "...                                        ...           ...         ...  \n",
       "4798                               El Mariachi           6.6         238  \n",
       "4799                                 Newlyweds           5.9           5  \n",
       "4800                 Signed, Sealed, Delivered           7.0           6  \n",
       "4801                          Shanghai Calling           5.7           7  \n",
       "4802                         My Date with Drew           6.3          16  \n",
       "\n",
       "[4803 rows x 20 columns]"
      ]
     },
     "execution_count": 4,
     "metadata": {},
     "output_type": "execute_result"
    }
   ],
   "source": [
    "df"
   ]
  },
  {
   "cell_type": "markdown",
   "id": "1915f1f7",
   "metadata": {},
   "source": [
    "View information about the dataset including datatypes and null values"
   ]
  },
  {
   "cell_type": "code",
   "execution_count": 5,
   "id": "c173d066",
   "metadata": {},
   "outputs": [
    {
     "name": "stdout",
     "output_type": "stream",
     "text": [
      "<class 'pandas.core.frame.DataFrame'>\n",
      "RangeIndex: 4803 entries, 0 to 4802\n",
      "Data columns (total 20 columns):\n",
      " #   Column                Non-Null Count  Dtype  \n",
      "---  ------                --------------  -----  \n",
      " 0   budget                4803 non-null   int64  \n",
      " 1   genres                4803 non-null   object \n",
      " 2   homepage              1712 non-null   object \n",
      " 3   id                    4803 non-null   int64  \n",
      " 4   keywords              4803 non-null   object \n",
      " 5   original_language     4803 non-null   object \n",
      " 6   original_title        4803 non-null   object \n",
      " 7   overview              4800 non-null   object \n",
      " 8   popularity            4803 non-null   float64\n",
      " 9   production_companies  4803 non-null   object \n",
      " 10  production_countries  4803 non-null   object \n",
      " 11  release_date          4802 non-null   object \n",
      " 12  revenue               4803 non-null   int64  \n",
      " 13  runtime               4801 non-null   float64\n",
      " 14  spoken_languages      4803 non-null   object \n",
      " 15  status                4803 non-null   object \n",
      " 16  tagline               3959 non-null   object \n",
      " 17  title                 4803 non-null   object \n",
      " 18  vote_average          4803 non-null   float64\n",
      " 19  vote_count            4803 non-null   int64  \n",
      "dtypes: float64(3), int64(4), object(13)\n",
      "memory usage: 750.6+ KB\n"
     ]
    }
   ],
   "source": [
    "df.info()"
   ]
  },
  {
   "cell_type": "markdown",
   "id": "4e64a24f",
   "metadata": {},
   "source": [
    "**Q.1.1.2** What columns have null values above? How would you be able to estimate the missing values?"
   ]
  },
  {
   "cell_type": "markdown",
   "id": "2660fe51",
   "metadata": {},
   "source": [
    "All of them have null values. \n",
    "Using for example the mean of of the non-null observations and plugging those in in the null values."
   ]
  },
  {
   "cell_type": "markdown",
   "id": "83863820",
   "metadata": {},
   "source": [
    "### Q1.2\n",
    "For this notebook, we're only interested in a few columns, specifically title, overview and genres. Set df to only contain those columns."
   ]
  },
  {
   "cell_type": "code",
   "execution_count": 6,
   "id": "4e3f0439",
   "metadata": {},
   "outputs": [
    {
     "name": "stdout",
     "output_type": "stream",
     "text": [
      "<class 'pandas.core.frame.DataFrame'>\n",
      "RangeIndex: 4803 entries, 0 to 4802\n",
      "Data columns (total 3 columns):\n",
      " #   Column    Non-Null Count  Dtype \n",
      "---  ------    --------------  ----- \n",
      " 0   title     4803 non-null   object\n",
      " 1   overview  4800 non-null   object\n",
      " 2   genres    4803 non-null   object\n",
      "dtypes: object(3)\n",
      "memory usage: 112.7+ KB\n"
     ]
    }
   ],
   "source": [
    "df1 = df[['title', 'overview', 'genres']]\n",
    "df1.info() # print out df info to verify"
   ]
  },
  {
   "cell_type": "markdown",
   "id": "b596e86b",
   "metadata": {},
   "source": [
    "### Q1.3\n",
    "We see that some movies do not have an overview. Drop them from the table and reset the index (set `drop=True`)."
   ]
  },
  {
   "cell_type": "code",
   "execution_count": 7,
   "id": "a06e4f6a",
   "metadata": {},
   "outputs": [],
   "source": [
    "df1 = df1.dropna(subset='overview') # drop na values\n",
    "df1 = df1.reset_index(drop=True) # reset indexb"
   ]
  },
  {
   "cell_type": "code",
   "execution_count": 8,
   "id": "c5431ef7",
   "metadata": {},
   "outputs": [
    {
     "data": {
      "text/plain": [
       "title                                                  Avatar\n",
       "overview    In the 22nd century, a paraplegic Marine is di...\n",
       "genres      [{\"id\": 28, \"name\": \"Action\"}, {\"id\": 12, \"nam...\n",
       "Name: 0, dtype: object"
      ]
     },
     "execution_count": 8,
     "metadata": {},
     "output_type": "execute_result"
    }
   ],
   "source": [
    "df1.loc[0]"
   ]
  },
  {
   "cell_type": "markdown",
   "id": "759df3a2",
   "metadata": {},
   "source": [
    "# Q2 One-hot encodings\n",
    "The following code processes the genres (which you see above are list of dictionaries) and encodes them into one-hot labels.\n",
    "\n",
    "Remember, since we cannot do maths on text strings, we must change these words to numbers. Here, we create one-hot encodings for the genres. Assume we have three genres $[G_1, G_2, G_3]$. If a movie $M_1$ is tagged with genre $G_1$, the encoding is $[1,0,0]$. If another movie $M_2$ is tagged with $G2$, the encoding becomes $[0,1,0]$. Other encodings are possible as well, but one-hot encoding quite common and useful for many other tasks. In this case, if a movie is tagged with more than one genre, we'll just take a random one and encode that into a one-hot label.\n",
    "\n",
    "### Q2.1 Processing genres\n",
    "\n",
    "Finish the following code that processes genres into one-hot encodings."
   ]
  },
  {
   "cell_type": "code",
   "execution_count": 9,
   "id": "dba05feb",
   "metadata": {},
   "outputs": [
    {
     "name": "stderr",
     "output_type": "stream",
     "text": [
      "100%|██████████| 4800/4800 [00:00<00:00, 13050.27it/s]\n"
     ]
    }
   ],
   "source": [
    "np.random.seed(0)\n",
    "\n",
    "def process_genre_string(gs):\n",
    "    \"\"\" Processes genres into a single item from a list\"\"\"\n",
    "    gs = eval(gs)\n",
    "    gs = [x['name'] for x in gs]\n",
    "    genre = \"Unknown\"\n",
    "    if gs:\n",
    "        genre = np.random.choice(gs) # choose random entry\n",
    "    return genre\n",
    "\n",
    "# TODO: Fill in\n",
    "def encode_labels(label, unique_labels):\n",
    "    \"\"\" Encodes text labels into a one-hot encoded list\n",
    "        with possibly more than one one-hot per list.\n",
    "        :param label: the label you want to one-hot encode\n",
    "        :unique_labels: the vocabulary\n",
    "    \"\"\"\n",
    "    out = np.zeros(len(unique_labels))\n",
    "    out[unique_labels.index(label)] = 1\n",
    "    return out\n",
    "\n",
    "# save genres\n",
    "processed_genres = []\n",
    "for index, row in df1.iterrows():\n",
    "    processed_genres.append(process_genre_string(row['genres']))\n",
    "\n",
    "# sort and remove duplicates to get vocabulary\n",
    "unique_genres = sorted(list(set(processed_genres)))\n",
    "\n",
    "# add to dataframe as new column\n",
    "df1[\"proc_genres\"] = processed_genres\n",
    "\n",
    "# one-hot encode genres\n",
    "enocded_labels = []\n",
    "for index, row in tqdm(df1.iterrows(), total=len(df1)):\n",
    "    enocded_labels.append(encode_labels(row['proc_genres'], unique_genres))\n",
    "\n",
    "df1[\"one_hot_genres\"] = enocded_labels"
   ]
  },
  {
   "cell_type": "markdown",
   "id": "d17501a9",
   "metadata": {},
   "source": [
    "Verify that one-hot encodings are indeed as expected"
   ]
  },
  {
   "cell_type": "code",
   "execution_count": 10,
   "id": "3b64854b",
   "metadata": {},
   "outputs": [
    {
     "data": {
      "text/plain": [
       "array([1., 0., 0., 0., 0., 0., 0., 0., 0., 0., 0., 0., 0., 0., 0., 0., 0.,\n",
       "       0., 0., 0., 0.])"
      ]
     },
     "execution_count": 10,
     "metadata": {},
     "output_type": "execute_result"
    }
   ],
   "source": [
    "df1[\"one_hot_genres\"][0]"
   ]
  },
  {
   "cell_type": "code",
   "execution_count": 11,
   "id": "aaf4b2c3",
   "metadata": {},
   "outputs": [
    {
     "data": {
      "text/html": [
       "<div>\n",
       "<style scoped>\n",
       "    .dataframe tbody tr th:only-of-type {\n",
       "        vertical-align: middle;\n",
       "    }\n",
       "\n",
       "    .dataframe tbody tr th {\n",
       "        vertical-align: top;\n",
       "    }\n",
       "\n",
       "    .dataframe thead th {\n",
       "        text-align: right;\n",
       "    }\n",
       "</style>\n",
       "<table border=\"1\" class=\"dataframe\">\n",
       "  <thead>\n",
       "    <tr style=\"text-align: right;\">\n",
       "      <th></th>\n",
       "      <th>title</th>\n",
       "      <th>overview</th>\n",
       "      <th>genres</th>\n",
       "      <th>proc_genres</th>\n",
       "      <th>one_hot_genres</th>\n",
       "    </tr>\n",
       "  </thead>\n",
       "  <tbody>\n",
       "    <tr>\n",
       "      <th>0</th>\n",
       "      <td>Avatar</td>\n",
       "      <td>In the 22nd century, a paraplegic Marine is di...</td>\n",
       "      <td>[{\"id\": 28, \"name\": \"Action\"}, {\"id\": 12, \"nam...</td>\n",
       "      <td>Action</td>\n",
       "      <td>[1.0, 0.0, 0.0, 0.0, 0.0, 0.0, 0.0, 0.0, 0.0, ...</td>\n",
       "    </tr>\n",
       "    <tr>\n",
       "      <th>1</th>\n",
       "      <td>Pirates of the Caribbean: At World's End</td>\n",
       "      <td>Captain Barbossa, long believed to be dead, ha...</td>\n",
       "      <td>[{\"id\": 12, \"name\": \"Adventure\"}, {\"id\": 14, \"...</td>\n",
       "      <td>Fantasy</td>\n",
       "      <td>[0.0, 0.0, 0.0, 0.0, 0.0, 0.0, 0.0, 0.0, 1.0, ...</td>\n",
       "    </tr>\n",
       "    <tr>\n",
       "      <th>2</th>\n",
       "      <td>Spectre</td>\n",
       "      <td>A cryptic message from Bond’s past sends him o...</td>\n",
       "      <td>[{\"id\": 28, \"name\": \"Action\"}, {\"id\": 12, \"nam...</td>\n",
       "      <td>Action</td>\n",
       "      <td>[1.0, 0.0, 0.0, 0.0, 0.0, 0.0, 0.0, 0.0, 0.0, ...</td>\n",
       "    </tr>\n",
       "    <tr>\n",
       "      <th>3</th>\n",
       "      <td>The Dark Knight Rises</td>\n",
       "      <td>Following the death of District Attorney Harve...</td>\n",
       "      <td>[{\"id\": 28, \"name\": \"Action\"}, {\"id\": 80, \"nam...</td>\n",
       "      <td>Thriller</td>\n",
       "      <td>[0.0, 0.0, 0.0, 0.0, 0.0, 0.0, 0.0, 0.0, 0.0, ...</td>\n",
       "    </tr>\n",
       "    <tr>\n",
       "      <th>4</th>\n",
       "      <td>John Carter</td>\n",
       "      <td>John Carter is a war-weary, former military ca...</td>\n",
       "      <td>[{\"id\": 28, \"name\": \"Action\"}, {\"id\": 12, \"nam...</td>\n",
       "      <td>Adventure</td>\n",
       "      <td>[0.0, 1.0, 0.0, 0.0, 0.0, 0.0, 0.0, 0.0, 0.0, ...</td>\n",
       "    </tr>\n",
       "    <tr>\n",
       "      <th>...</th>\n",
       "      <td>...</td>\n",
       "      <td>...</td>\n",
       "      <td>...</td>\n",
       "      <td>...</td>\n",
       "      <td>...</td>\n",
       "    </tr>\n",
       "    <tr>\n",
       "      <th>4795</th>\n",
       "      <td>El Mariachi</td>\n",
       "      <td>El Mariachi just wants to play his guitar and ...</td>\n",
       "      <td>[{\"id\": 28, \"name\": \"Action\"}, {\"id\": 80, \"nam...</td>\n",
       "      <td>Crime</td>\n",
       "      <td>[0.0, 0.0, 0.0, 0.0, 1.0, 0.0, 0.0, 0.0, 0.0, ...</td>\n",
       "    </tr>\n",
       "    <tr>\n",
       "      <th>4796</th>\n",
       "      <td>Newlyweds</td>\n",
       "      <td>A newlywed couple's honeymoon is upended by th...</td>\n",
       "      <td>[{\"id\": 35, \"name\": \"Comedy\"}, {\"id\": 10749, \"...</td>\n",
       "      <td>Comedy</td>\n",
       "      <td>[0.0, 0.0, 0.0, 1.0, 0.0, 0.0, 0.0, 0.0, 0.0, ...</td>\n",
       "    </tr>\n",
       "    <tr>\n",
       "      <th>4797</th>\n",
       "      <td>Signed, Sealed, Delivered</td>\n",
       "      <td>\"Signed, Sealed, Delivered\" introduces a dedic...</td>\n",
       "      <td>[{\"id\": 35, \"name\": \"Comedy\"}, {\"id\": 18, \"nam...</td>\n",
       "      <td>TV Movie</td>\n",
       "      <td>[0.0, 0.0, 0.0, 0.0, 0.0, 0.0, 0.0, 0.0, 0.0, ...</td>\n",
       "    </tr>\n",
       "    <tr>\n",
       "      <th>4798</th>\n",
       "      <td>Shanghai Calling</td>\n",
       "      <td>When ambitious New York attorney Sam is sent t...</td>\n",
       "      <td>[]</td>\n",
       "      <td>Unknown</td>\n",
       "      <td>[0.0, 0.0, 0.0, 0.0, 0.0, 0.0, 0.0, 0.0, 0.0, ...</td>\n",
       "    </tr>\n",
       "    <tr>\n",
       "      <th>4799</th>\n",
       "      <td>My Date with Drew</td>\n",
       "      <td>Ever since the second grade when he first saw ...</td>\n",
       "      <td>[{\"id\": 99, \"name\": \"Documentary\"}]</td>\n",
       "      <td>Documentary</td>\n",
       "      <td>[0.0, 0.0, 0.0, 0.0, 0.0, 1.0, 0.0, 0.0, 0.0, ...</td>\n",
       "    </tr>\n",
       "  </tbody>\n",
       "</table>\n",
       "<p>4800 rows × 5 columns</p>\n",
       "</div>"
      ],
      "text/plain": [
       "                                         title  \\\n",
       "0                                       Avatar   \n",
       "1     Pirates of the Caribbean: At World's End   \n",
       "2                                      Spectre   \n",
       "3                        The Dark Knight Rises   \n",
       "4                                  John Carter   \n",
       "...                                        ...   \n",
       "4795                               El Mariachi   \n",
       "4796                                 Newlyweds   \n",
       "4797                 Signed, Sealed, Delivered   \n",
       "4798                          Shanghai Calling   \n",
       "4799                         My Date with Drew   \n",
       "\n",
       "                                               overview  \\\n",
       "0     In the 22nd century, a paraplegic Marine is di...   \n",
       "1     Captain Barbossa, long believed to be dead, ha...   \n",
       "2     A cryptic message from Bond’s past sends him o...   \n",
       "3     Following the death of District Attorney Harve...   \n",
       "4     John Carter is a war-weary, former military ca...   \n",
       "...                                                 ...   \n",
       "4795  El Mariachi just wants to play his guitar and ...   \n",
       "4796  A newlywed couple's honeymoon is upended by th...   \n",
       "4797  \"Signed, Sealed, Delivered\" introduces a dedic...   \n",
       "4798  When ambitious New York attorney Sam is sent t...   \n",
       "4799  Ever since the second grade when he first saw ...   \n",
       "\n",
       "                                                 genres  proc_genres  \\\n",
       "0     [{\"id\": 28, \"name\": \"Action\"}, {\"id\": 12, \"nam...       Action   \n",
       "1     [{\"id\": 12, \"name\": \"Adventure\"}, {\"id\": 14, \"...      Fantasy   \n",
       "2     [{\"id\": 28, \"name\": \"Action\"}, {\"id\": 12, \"nam...       Action   \n",
       "3     [{\"id\": 28, \"name\": \"Action\"}, {\"id\": 80, \"nam...     Thriller   \n",
       "4     [{\"id\": 28, \"name\": \"Action\"}, {\"id\": 12, \"nam...    Adventure   \n",
       "...                                                 ...          ...   \n",
       "4795  [{\"id\": 28, \"name\": \"Action\"}, {\"id\": 80, \"nam...        Crime   \n",
       "4796  [{\"id\": 35, \"name\": \"Comedy\"}, {\"id\": 10749, \"...       Comedy   \n",
       "4797  [{\"id\": 35, \"name\": \"Comedy\"}, {\"id\": 18, \"nam...     TV Movie   \n",
       "4798                                                 []      Unknown   \n",
       "4799                [{\"id\": 99, \"name\": \"Documentary\"}]  Documentary   \n",
       "\n",
       "                                         one_hot_genres  \n",
       "0     [1.0, 0.0, 0.0, 0.0, 0.0, 0.0, 0.0, 0.0, 0.0, ...  \n",
       "1     [0.0, 0.0, 0.0, 0.0, 0.0, 0.0, 0.0, 0.0, 1.0, ...  \n",
       "2     [1.0, 0.0, 0.0, 0.0, 0.0, 0.0, 0.0, 0.0, 0.0, ...  \n",
       "3     [0.0, 0.0, 0.0, 0.0, 0.0, 0.0, 0.0, 0.0, 0.0, ...  \n",
       "4     [0.0, 1.0, 0.0, 0.0, 0.0, 0.0, 0.0, 0.0, 0.0, ...  \n",
       "...                                                 ...  \n",
       "4795  [0.0, 0.0, 0.0, 0.0, 1.0, 0.0, 0.0, 0.0, 0.0, ...  \n",
       "4796  [0.0, 0.0, 0.0, 1.0, 0.0, 0.0, 0.0, 0.0, 0.0, ...  \n",
       "4797  [0.0, 0.0, 0.0, 0.0, 0.0, 0.0, 0.0, 0.0, 0.0, ...  \n",
       "4798  [0.0, 0.0, 0.0, 0.0, 0.0, 0.0, 0.0, 0.0, 0.0, ...  \n",
       "4799  [0.0, 0.0, 0.0, 0.0, 0.0, 1.0, 0.0, 0.0, 0.0, ...  \n",
       "\n",
       "[4800 rows x 5 columns]"
      ]
     },
     "execution_count": 11,
     "metadata": {},
     "output_type": "execute_result"
    }
   ],
   "source": [
    "df1"
   ]
  },
  {
   "cell_type": "markdown",
   "id": "b0a83ece",
   "metadata": {},
   "source": [
    "### Q2.2 Processing Overviews\n",
    "Next, we process the overviews. First, we remove all punctuation for the sake of simplicity and change each overview to use only lowercase. Then we need to see how long the overviews are in terms of numbers of words. We can do this with a histogram.\n",
    "\n",
    "**Q2.2.1** Finish the following code"
   ]
  },
  {
   "cell_type": "code",
   "execution_count": 12,
   "id": "bfd51c53",
   "metadata": {},
   "outputs": [],
   "source": [
    "import re\n",
    "def remove_punctuation(text):\n",
    "    \"\"\" Only retains letters, numbers, underscores and whitespace \"\"\"\n",
    "    pattern = r'[^\\w\\s]'\n",
    "    return re.sub(pattern, '', text)\n",
    "\n",
    "processed_overviews = []\n",
    "\n",
    "# loop over df, remove punctuation, make words lowercase and add it to a new column\n",
    "for index, row in df1.iterrows():\n",
    "    processed_overviews.append(remove_punctuation(row['overview']))\n",
    "\n",
    "df1[\"proc_overview\"] = processed_overviews"
   ]
  },
  {
   "cell_type": "code",
   "execution_count": 13,
   "id": "4a719c29",
   "metadata": {},
   "outputs": [
    {
     "data": {
      "image/png": "[encoded data removed]",
      "text/plain": [
       "<Figure size 640x480 with 1 Axes>"
      ]
     },
     "metadata": {},
     "output_type": "display_data"
    }
   ],
   "source": [
    "# get the word lengths of each overview and store it in a list \n",
    "overview_lens = []\n",
    "\n",
    "for index, row in df1.iterrows():\n",
    "    overview_lens.append(len(row['proc_overview']))\n",
    "\n",
    "\n",
    "# for the sake of simplicity, add these values as a column to the df\n",
    "df1[\"overview_len\"] = overview_lens\n",
    "plt.hist(df1['overview_len'])\n",
    "plt.show()"
   ]
  },
  {
   "cell_type": "code",
   "execution_count": 14,
   "id": "5da0ebe1",
   "metadata": {},
   "outputs": [
    {
     "data": {
      "text/plain": [
       "982"
      ]
     },
     "execution_count": 14,
     "metadata": {},
     "output_type": "execute_result"
    }
   ],
   "source": [
    "max(df1['overview_len'])"
   ]
  },
  {
   "cell_type": "code",
   "execution_count": 15,
   "id": "2cc4bb7b",
   "metadata": {},
   "outputs": [
    {
     "data": {
      "text/plain": [
       "1"
      ]
     },
     "execution_count": 15,
     "metadata": {},
     "output_type": "execute_result"
    }
   ],
   "source": [
    "min(df1['overview_len'])"
   ]
  },
  {
   "cell_type": "markdown",
   "id": "58138594",
   "metadata": {},
   "source": [
    "**Q2.2.2** What is the shortest overview? What is the longest? In the next step, we need to decide on a standard length of all overviews -- this means dropping overviews less than some value, and truncating longer ones. What length would you choose to minimize the number of movies dropped and maximize the information (words) stored in the overviews?"
   ]
  },
  {
   "cell_type": "markdown",
   "id": "3b87f1af",
   "metadata": {},
   "source": [
    "Longet overview is 982 words, and the shortest one is 1 word"
   ]
  },
  {
   "cell_type": "markdown",
   "id": "54e6cb90",
   "metadata": {},
   "source": [
    "### Q2.2.3\n",
    "Let's choose overviews of length 15 words. What this means is we need to discard movies that have overviews less than 15 (there are other ways of dealing with it, but this should be fine for now) and truncate the higher ones to the first 15 words."
   ]
  },
  {
   "cell_type": "code",
   "execution_count": 16,
   "id": "70854211",
   "metadata": {},
   "outputs": [
    {
     "data": {
      "text/html": [
       "<div>\n",
       "<style scoped>\n",
       "    .dataframe tbody tr th:only-of-type {\n",
       "        vertical-align: middle;\n",
       "    }\n",
       "\n",
       "    .dataframe tbody tr th {\n",
       "        vertical-align: top;\n",
       "    }\n",
       "\n",
       "    .dataframe thead th {\n",
       "        text-align: right;\n",
       "    }\n",
       "</style>\n",
       "<table border=\"1\" class=\"dataframe\">\n",
       "  <thead>\n",
       "    <tr style=\"text-align: right;\">\n",
       "      <th></th>\n",
       "      <th>title</th>\n",
       "      <th>overview</th>\n",
       "      <th>genres</th>\n",
       "      <th>proc_genres</th>\n",
       "      <th>one_hot_genres</th>\n",
       "      <th>proc_overview</th>\n",
       "      <th>overview_len</th>\n",
       "    </tr>\n",
       "  </thead>\n",
       "  <tbody>\n",
       "    <tr>\n",
       "      <th>0</th>\n",
       "      <td>Avatar</td>\n",
       "      <td>In the 22nd century, a paraplegic Marine is di...</td>\n",
       "      <td>[{\"id\": 28, \"name\": \"Action\"}, {\"id\": 12, \"nam...</td>\n",
       "      <td>Action</td>\n",
       "      <td>[1.0, 0.0, 0.0, 0.0, 0.0, 0.0, 0.0, 0.0, 0.0, ...</td>\n",
       "      <td>In the 22nd century a paraplegic Marine is dis...</td>\n",
       "      <td>172</td>\n",
       "    </tr>\n",
       "    <tr>\n",
       "      <th>1</th>\n",
       "      <td>Pirates of the Caribbean: At World's End</td>\n",
       "      <td>Captain Barbossa, long believed to be dead, ha...</td>\n",
       "      <td>[{\"id\": 12, \"name\": \"Adventure\"}, {\"id\": 14, \"...</td>\n",
       "      <td>Fantasy</td>\n",
       "      <td>[0.0, 0.0, 0.0, 0.0, 0.0, 0.0, 0.0, 0.0, 1.0, ...</td>\n",
       "      <td>Captain Barbossa long believed to be dead has ...</td>\n",
       "      <td>172</td>\n",
       "    </tr>\n",
       "    <tr>\n",
       "      <th>2</th>\n",
       "      <td>Spectre</td>\n",
       "      <td>A cryptic message from Bond’s past sends him o...</td>\n",
       "      <td>[{\"id\": 28, \"name\": \"Action\"}, {\"id\": 12, \"nam...</td>\n",
       "      <td>Action</td>\n",
       "      <td>[1.0, 0.0, 0.0, 0.0, 0.0, 0.0, 0.0, 0.0, 0.0, ...</td>\n",
       "      <td>A cryptic message from Bonds past sends him on...</td>\n",
       "      <td>236</td>\n",
       "    </tr>\n",
       "    <tr>\n",
       "      <th>3</th>\n",
       "      <td>The Dark Knight Rises</td>\n",
       "      <td>Following the death of District Attorney Harve...</td>\n",
       "      <td>[{\"id\": 28, \"name\": \"Action\"}, {\"id\": 80, \"nam...</td>\n",
       "      <td>Thriller</td>\n",
       "      <td>[0.0, 0.0, 0.0, 0.0, 0.0, 0.0, 0.0, 0.0, 0.0, ...</td>\n",
       "      <td>Following the death of District Attorney Harve...</td>\n",
       "      <td>419</td>\n",
       "    </tr>\n",
       "    <tr>\n",
       "      <th>4</th>\n",
       "      <td>John Carter</td>\n",
       "      <td>John Carter is a war-weary, former military ca...</td>\n",
       "      <td>[{\"id\": 28, \"name\": \"Action\"}, {\"id\": 12, \"nam...</td>\n",
       "      <td>Adventure</td>\n",
       "      <td>[0.0, 1.0, 0.0, 0.0, 0.0, 0.0, 0.0, 0.0, 0.0, ...</td>\n",
       "      <td>John Carter is a warweary former military capt...</td>\n",
       "      <td>333</td>\n",
       "    </tr>\n",
       "    <tr>\n",
       "      <th>...</th>\n",
       "      <td>...</td>\n",
       "      <td>...</td>\n",
       "      <td>...</td>\n",
       "      <td>...</td>\n",
       "      <td>...</td>\n",
       "      <td>...</td>\n",
       "      <td>...</td>\n",
       "    </tr>\n",
       "    <tr>\n",
       "      <th>4794</th>\n",
       "      <td>El Mariachi</td>\n",
       "      <td>El Mariachi just wants to play his guitar and ...</td>\n",
       "      <td>[{\"id\": 28, \"name\": \"Action\"}, {\"id\": 80, \"nam...</td>\n",
       "      <td>Crime</td>\n",
       "      <td>[0.0, 0.0, 0.0, 0.0, 1.0, 0.0, 0.0, 0.0, 0.0, ...</td>\n",
       "      <td>El Mariachi just wants to play his guitar and ...</td>\n",
       "      <td>329</td>\n",
       "    </tr>\n",
       "    <tr>\n",
       "      <th>4795</th>\n",
       "      <td>Newlyweds</td>\n",
       "      <td>A newlywed couple's honeymoon is upended by th...</td>\n",
       "      <td>[{\"id\": 35, \"name\": \"Comedy\"}, {\"id\": 10749, \"...</td>\n",
       "      <td>Comedy</td>\n",
       "      <td>[0.0, 0.0, 0.0, 1.0, 0.0, 0.0, 0.0, 0.0, 0.0, ...</td>\n",
       "      <td>A newlywed couples honeymoon is upended by the...</td>\n",
       "      <td>83</td>\n",
       "    </tr>\n",
       "    <tr>\n",
       "      <th>4796</th>\n",
       "      <td>Signed, Sealed, Delivered</td>\n",
       "      <td>\"Signed, Sealed, Delivered\" introduces a dedic...</td>\n",
       "      <td>[{\"id\": 35, \"name\": \"Comedy\"}, {\"id\": 18, \"nam...</td>\n",
       "      <td>TV Movie</td>\n",
       "      <td>[0.0, 0.0, 0.0, 0.0, 0.0, 0.0, 0.0, 0.0, 0.0, ...</td>\n",
       "      <td>Signed Sealed Delivered introduces a dedicated...</td>\n",
       "      <td>461</td>\n",
       "    </tr>\n",
       "    <tr>\n",
       "      <th>4797</th>\n",
       "      <td>Shanghai Calling</td>\n",
       "      <td>When ambitious New York attorney Sam is sent t...</td>\n",
       "      <td>[]</td>\n",
       "      <td>Unknown</td>\n",
       "      <td>[0.0, 0.0, 0.0, 0.0, 0.0, 0.0, 0.0, 0.0, 0.0, ...</td>\n",
       "      <td>When ambitious New York attorney Sam is sent t...</td>\n",
       "      <td>398</td>\n",
       "    </tr>\n",
       "    <tr>\n",
       "      <th>4798</th>\n",
       "      <td>My Date with Drew</td>\n",
       "      <td>Ever since the second grade when he first saw ...</td>\n",
       "      <td>[{\"id\": 99, \"name\": \"Documentary\"}]</td>\n",
       "      <td>Documentary</td>\n",
       "      <td>[0.0, 0.0, 0.0, 0.0, 0.0, 1.0, 0.0, 0.0, 0.0, ...</td>\n",
       "      <td>Ever since the second grade when he first saw ...</td>\n",
       "      <td>348</td>\n",
       "    </tr>\n",
       "  </tbody>\n",
       "</table>\n",
       "<p>4799 rows × 7 columns</p>\n",
       "</div>"
      ],
      "text/plain": [
       "                                         title  \\\n",
       "0                                       Avatar   \n",
       "1     Pirates of the Caribbean: At World's End   \n",
       "2                                      Spectre   \n",
       "3                        The Dark Knight Rises   \n",
       "4                                  John Carter   \n",
       "...                                        ...   \n",
       "4794                               El Mariachi   \n",
       "4795                                 Newlyweds   \n",
       "4796                 Signed, Sealed, Delivered   \n",
       "4797                          Shanghai Calling   \n",
       "4798                         My Date with Drew   \n",
       "\n",
       "                                               overview  \\\n",
       "0     In the 22nd century, a paraplegic Marine is di...   \n",
       "1     Captain Barbossa, long believed to be dead, ha...   \n",
       "2     A cryptic message from Bond’s past sends him o...   \n",
       "3     Following the death of District Attorney Harve...   \n",
       "4     John Carter is a war-weary, former military ca...   \n",
       "...                                                 ...   \n",
       "4794  El Mariachi just wants to play his guitar and ...   \n",
       "4795  A newlywed couple's honeymoon is upended by th...   \n",
       "4796  \"Signed, Sealed, Delivered\" introduces a dedic...   \n",
       "4797  When ambitious New York attorney Sam is sent t...   \n",
       "4798  Ever since the second grade when he first saw ...   \n",
       "\n",
       "                                                 genres  proc_genres  \\\n",
       "0     [{\"id\": 28, \"name\": \"Action\"}, {\"id\": 12, \"nam...       Action   \n",
       "1     [{\"id\": 12, \"name\": \"Adventure\"}, {\"id\": 14, \"...      Fantasy   \n",
       "2     [{\"id\": 28, \"name\": \"Action\"}, {\"id\": 12, \"nam...       Action   \n",
       "3     [{\"id\": 28, \"name\": \"Action\"}, {\"id\": 80, \"nam...     Thriller   \n",
       "4     [{\"id\": 28, \"name\": \"Action\"}, {\"id\": 12, \"nam...    Adventure   \n",
       "...                                                 ...          ...   \n",
       "4794  [{\"id\": 28, \"name\": \"Action\"}, {\"id\": 80, \"nam...        Crime   \n",
       "4795  [{\"id\": 35, \"name\": \"Comedy\"}, {\"id\": 10749, \"...       Comedy   \n",
       "4796  [{\"id\": 35, \"name\": \"Comedy\"}, {\"id\": 18, \"nam...     TV Movie   \n",
       "4797                                                 []      Unknown   \n",
       "4798                [{\"id\": 99, \"name\": \"Documentary\"}]  Documentary   \n",
       "\n",
       "                                         one_hot_genres  \\\n",
       "0     [1.0, 0.0, 0.0, 0.0, 0.0, 0.0, 0.0, 0.0, 0.0, ...   \n",
       "1     [0.0, 0.0, 0.0, 0.0, 0.0, 0.0, 0.0, 0.0, 1.0, ...   \n",
       "2     [1.0, 0.0, 0.0, 0.0, 0.0, 0.0, 0.0, 0.0, 0.0, ...   \n",
       "3     [0.0, 0.0, 0.0, 0.0, 0.0, 0.0, 0.0, 0.0, 0.0, ...   \n",
       "4     [0.0, 1.0, 0.0, 0.0, 0.0, 0.0, 0.0, 0.0, 0.0, ...   \n",
       "...                                                 ...   \n",
       "4794  [0.0, 0.0, 0.0, 0.0, 1.0, 0.0, 0.0, 0.0, 0.0, ...   \n",
       "4795  [0.0, 0.0, 0.0, 1.0, 0.0, 0.0, 0.0, 0.0, 0.0, ...   \n",
       "4796  [0.0, 0.0, 0.0, 0.0, 0.0, 0.0, 0.0, 0.0, 0.0, ...   \n",
       "4797  [0.0, 0.0, 0.0, 0.0, 0.0, 0.0, 0.0, 0.0, 0.0, ...   \n",
       "4798  [0.0, 0.0, 0.0, 0.0, 0.0, 1.0, 0.0, 0.0, 0.0, ...   \n",
       "\n",
       "                                          proc_overview  overview_len  \n",
       "0     In the 22nd century a paraplegic Marine is dis...           172  \n",
       "1     Captain Barbossa long believed to be dead has ...           172  \n",
       "2     A cryptic message from Bonds past sends him on...           236  \n",
       "3     Following the death of District Attorney Harve...           419  \n",
       "4     John Carter is a warweary former military capt...           333  \n",
       "...                                                 ...           ...  \n",
       "4794  El Mariachi just wants to play his guitar and ...           329  \n",
       "4795  A newlywed couples honeymoon is upended by the...            83  \n",
       "4796  Signed Sealed Delivered introduces a dedicated...           461  \n",
       "4797  When ambitious New York attorney Sam is sent t...           398  \n",
       "4798  Ever since the second grade when he first saw ...           348  \n",
       "\n",
       "[4799 rows x 7 columns]"
      ]
     },
     "execution_count": 16,
     "metadata": {},
     "output_type": "execute_result"
    }
   ],
   "source": [
    "token_len = 15 # number of words\n",
    "# only select rows where overview len is more than or equal to token_len\n",
    "df2 = df1[df1['overview_len']>= token_len]\n",
    "\n",
    "df2.reset_index(drop=True)"
   ]
  },
  {
   "cell_type": "code",
   "execution_count": 34,
   "id": "d5ab1ec1",
   "metadata": {},
   "outputs": [
    {
     "data": {
      "text/plain": [
       "'In the 22nd century a paraplegic Marine is dispatched to the moon Pandora on a unique mission but becomes torn between following orders and protecting an alien civilization'"
      ]
     },
     "execution_count": 34,
     "metadata": {},
     "output_type": "execute_result"
    }
   ],
   "source": [
    "df2['proc_overview'][0]"
   ]
  },
  {
   "cell_type": "code",
   "execution_count": 35,
   "id": "cc2d88d5",
   "metadata": {},
   "outputs": [
    {
     "name": "stderr",
     "output_type": "stream",
     "text": [
      "C:\\Users\\andre\\AppData\\Local\\Temp\\ipykernel_19616\\1411684777.py:9: SettingWithCopyWarning: \n",
      "A value is trying to be set on a copy of a slice from a DataFrame.\n",
      "Try using .loc[row_indexer,col_indexer] = value instead\n",
      "\n",
      "See the caveats in the documentation: https://pandas.pydata.org/pandas-docs/stable/user_guide/indexing.html#returning-a-view-versus-a-copy\n",
      "  df2['proc_overview'] = processed_overviews\n"
     ]
    }
   ],
   "source": [
    "# split each proc_overview into a list of words, select the first token_len words, \n",
    "# and add the list of words back into df[\"proc_overview\"]\n",
    "processed_overviews = []\n",
    "\n",
    "for overview in df2['proc_overview']:\n",
    "    processed_overview = overview.split()[:token_len]\n",
    "    processed_overviews.append(processed_overview)\n",
    "\n",
    "df2['proc_overview'] = processed_overviews\n"
   ]
  },
  {
   "cell_type": "code",
   "execution_count": 94,
   "id": "8f657e72",
   "metadata": {},
   "outputs": [
    {
     "data": {
      "text/plain": [
       "0                                         Avatar\n",
       "1       Pirates of the Caribbean: At World's End\n",
       "2                                        Spectre\n",
       "3                          The Dark Knight Rises\n",
       "4                                    John Carter\n",
       "                          ...                   \n",
       "4795                                 El Mariachi\n",
       "4796                                   Newlyweds\n",
       "4797                   Signed, Sealed, Delivered\n",
       "4798                            Shanghai Calling\n",
       "4799                           My Date with Drew\n",
       "Name: title, Length: 4799, dtype: object"
      ]
     },
     "execution_count": 94,
     "metadata": {},
     "output_type": "execute_result"
    }
   ],
   "source": [
    "df2['title']"
   ]
  },
  {
   "cell_type": "markdown",
   "id": "26e092dd",
   "metadata": {},
   "source": [
    "### Q2.2.3 Finding the vocabulary length\n",
    "\n",
    "In order to one-hot encode words, we need to find how many words there are in total, just like in the case of genres. Get all the words, remove duplicates, and sort. Find and print the length of your vocabulary."
   ]
  },
  {
   "cell_type": "code",
   "execution_count": 38,
   "id": "a71a750b",
   "metadata": {},
   "outputs": [
    {
     "name": "stdout",
     "output_type": "stream",
     "text": [
      "13917\n"
     ]
    }
   ],
   "source": [
    "# hint: store all words for all movies in a set, change it to a list and sort\n",
    "\n",
    "list_of_words = []\n",
    "\n",
    "for row in df2['proc_overview']:\n",
    "    words = row\n",
    "    list_of_words.extend(words)\n",
    "\n",
    "unique_words = sorted(list(set(list_of_words)))\n",
    "\n",
    "\n",
    "vocab_len = len(unique_words)\n",
    "print(vocab_len)"
   ]
  },
  {
   "cell_type": "markdown",
   "id": "f276b825",
   "metadata": {},
   "source": [
    "### Q2.2.4 Encoding the labels\n",
    "\n",
    "In the case of genres, we one-hot encoded the outputs by taking a single random genre. However, an alternative method is to add up the one-hot encodings to form some kind of histogram. For example, if we have an overview \"a brown dog\", and our vocab is \\[a brown, big, cabbage, dog, goat, cow, turkey\\], the one-hot vector would be \\[1,1,0,0,1,0,0,0\\]. If our overview is \"a big brown dog\", the one-hot vector would be \\[1,1,1,0,1,0,0,0\\]. If our overview is \"a big big brown dog\", the one-hot vector would be \\[1,1,2,0,1,0,0,0\\]. You can use the `encode_labels` function that you defined earlier."
   ]
  },
  {
   "cell_type": "code",
   "execution_count": 40,
   "id": "d212192f",
   "metadata": {},
   "outputs": [
    {
     "name": "stderr",
     "output_type": "stream",
     "text": [
      "100%|██████████| 4799/4799 [00:23<00:00, 202.09it/s]\n",
      "C:\\Users\\andre\\AppData\\Local\\Temp\\ipykernel_19616\\2084387936.py:14: SettingWithCopyWarning: \n",
      "A value is trying to be set on a copy of a slice from a DataFrame.\n",
      "Try using .loc[row_indexer,col_indexer] = value instead\n",
      "\n",
      "See the caveats in the documentation: https://pandas.pydata.org/pandas-docs/stable/user_guide/indexing.html#returning-a-view-versus-a-copy\n",
      "  df2[\"one_hot_overview\"] = encoded_labels\n"
     ]
    },
    {
     "data": {
      "text/plain": [
       "0       [0.0, 0.0, 0.0, 0.0, 0.0, 0.0, 0.0, 0.0, 0.0, ...\n",
       "1       [0.0, 0.0, 0.0, 0.0, 0.0, 0.0, 0.0, 0.0, 0.0, ...\n",
       "2       [0.0, 0.0, 0.0, 0.0, 0.0, 0.0, 0.0, 0.0, 0.0, ...\n",
       "3       [0.0, 0.0, 0.0, 0.0, 0.0, 0.0, 0.0, 0.0, 0.0, ...\n",
       "4       [0.0, 0.0, 0.0, 0.0, 0.0, 0.0, 0.0, 0.0, 0.0, ...\n",
       "                              ...                        \n",
       "4795    [0.0, 0.0, 0.0, 0.0, 0.0, 0.0, 0.0, 0.0, 0.0, ...\n",
       "4796    [0.0, 0.0, 0.0, 0.0, 0.0, 0.0, 0.0, 0.0, 0.0, ...\n",
       "4797    [0.0, 0.0, 0.0, 0.0, 0.0, 0.0, 0.0, 0.0, 0.0, ...\n",
       "4798    [0.0, 0.0, 0.0, 0.0, 0.0, 0.0, 0.0, 0.0, 0.0, ...\n",
       "4799    [0.0, 0.0, 0.0, 0.0, 0.0, 0.0, 0.0, 0.0, 0.0, ...\n",
       "Name: one_hot_overview, Length: 4799, dtype: object"
      ]
     },
     "execution_count": 40,
     "metadata": {},
     "output_type": "execute_result"
    }
   ],
   "source": [
    "# this code is just a hint, if you want you can do it as you please\n",
    "# as long as the output remains the same\n",
    "encoded_labels = []\n",
    "\n",
    "for index, row in tqdm(df2.iterrows(), total=len(df2)):\n",
    "    sentence_encode = np.zeros(len(unique_words)) # set of encodings for this overview\n",
    "\n",
    "    for word in row[\"proc_overview\"]:\n",
    "        word_encode = encode_labels(word, unique_words) # get encoding for this word\n",
    "        sentence_encode += word_encode\n",
    "\n",
    "    encoded_labels.append(sentence_encode)\n",
    "\n",
    "df2[\"one_hot_overview\"] = encoded_labels\n",
    "df2['one_hot_overview'] # print to verify"
   ]
  },
  {
   "cell_type": "markdown",
   "id": "7c62e127",
   "metadata": {},
   "source": [
    "**Q2.2.5** Each vector is a vector of floating point (64-bit) numbers. Assuming each float takes up exactly 16-bytes, how many bytes does this take to store (theoretically)?"
   ]
  },
  {
   "cell_type": "markdown",
   "id": "193b8235",
   "metadata": {},
   "source": [
    "4800 * 16 and since each one is a bit, and we are using 64 bit then 4800*16*64"
   ]
  },
  {
   "cell_type": "markdown",
   "id": "1f3b3700",
   "metadata": {},
   "source": [
    "# Q3 Principal Component Analysis\n",
    "\n",
    "**Q3.1** Using the overview encoded into one-hot encodings, perform PCA and plot this into a 2-D image as a scatter plot."
   ]
  },
  {
   "cell_type": "code",
   "execution_count": 59,
   "id": "832f2be7",
   "metadata": {},
   "outputs": [
    {
     "name": "stdout",
     "output_type": "stream",
     "text": [
      "(4799,)\n"
     ]
    }
   ],
   "source": [
    "\n",
    "from sklearn.decomposition import PCA\n",
    "\n",
    "\n",
    "pca = PCA(n_components=2)  # Set the desired number of components\n",
    "\n",
    "x_train = np.array(df2['one_hot_overview'])\n",
    "\n",
    "\n",
    "print(x_train.shape)\n",
    "x_train_reshaped = [vector.reshape(-1,) for vector in x_train]\n"
   ]
  },
  {
   "cell_type": "code",
   "execution_count": 60,
   "id": "192cdb7b",
   "metadata": {},
   "outputs": [
    {
     "name": "stderr",
     "output_type": "stream",
     "text": [
      "C:\\Users\\andre\\AppData\\Local\\Temp\\ipykernel_19616\\3756895746.py:6: UserWarning: No data for colormapping provided via 'c'. Parameters 'cmap' will be ignored\n",
      "  plt.scatter(x_train_pca[:, 0], x_train_pca[:, 1], cmap='tab10', alpha=0.6, s=1)\n"
     ]
    },
    {
     "data": {
      "image/png": "[encoded data removed]",
      "text/plain": [
       "<Figure size 800x600 with 2 Axes>"
      ]
     },
     "metadata": {},
     "output_type": "display_data"
    }
   ],
   "source": [
    "\n",
    "x_train_pca = pca.fit_transform(x_train_reshaped)\n",
    "\n",
    "\n",
    "\n",
    "plt.figure(figsize=(8, 6))\n",
    "plt.scatter(x_train_pca[:, 0], x_train_pca[:, 1], cmap='tab10', alpha=0.6, s=1)\n",
    "plt.colorbar()\n",
    "plt.title('MNIST Data Projected using PCA')\n",
    "plt.xlabel('Principal Component 1')\n",
    "plt.ylabel('Principal Component 2')\n",
    "plt.show()"
   ]
  },
  {
   "cell_type": "markdown",
   "id": "a63054b6",
   "metadata": {},
   "source": [
    "**Q3.2** Do you see any interpretable structure in the above plot (\"interpretable\" $\\rightarrow$ the patterns are explainable)."
   ]
  },
  {
   "cell_type": "markdown",
   "id": "a9409e7b",
   "metadata": {},
   "source": [
    "Clustered groups, that are increasing in both principal components. Patterns could be exlpained by an unknown classification. (genres?)"
   ]
  },
  {
   "cell_type": "markdown",
   "id": "4482c5e5",
   "metadata": {},
   "source": [
    "**Q3.3** Quantify how much variance information a 2D PCA projection loses for this dataset."
   ]
  },
  {
   "cell_type": "markdown",
   "id": "2338a25d",
   "metadata": {},
   "source": [
    "hm...not sure?"
   ]
  },
  {
   "cell_type": "markdown",
   "id": "7da99ba5",
   "metadata": {},
   "source": [
    "**Q3.4** Plot a line graph where the y-axis is cumulative explained variance ratio and the x-axis is the number of PCA components."
   ]
  },
  {
   "cell_type": "code",
   "execution_count": 67,
   "id": "e0cac8ff",
   "metadata": {
    "scrolled": false
   },
   "outputs": [],
   "source": [
    "pca = PCA(n_components=1700)\n",
    "x_train_pca = pca.fit(x_train_reshaped)\n",
    "labels_pca = pca.fit_transform(x_train_reshaped)\n",
    "\n"
   ]
  },
  {
   "cell_type": "code",
   "execution_count": 68,
   "id": "90a4e345",
   "metadata": {},
   "outputs": [
    {
     "data": {
      "image/png": "[encoded data removed]",
      "text/plain": [
       "<Figure size 640x480 with 1 Axes>"
      ]
     },
     "metadata": {},
     "output_type": "display_data"
    }
   ],
   "source": [
    "variance_list = pca.explained_variance_ratio_\n",
    "\n",
    "plt.plot(variance_list)\n",
    "\n",
    "plt.ylabel('Explained variance')\n",
    "plt.xlabel('Number of components')\n",
    "plt.title('Explained variances vs N of components')\n",
    "plt.show()"
   ]
  },
  {
   "cell_type": "markdown",
   "id": "8b36c9b2",
   "metadata": {},
   "source": [
    "**Q3.5** How many principal components do you need in order to explain 80% of the total variance in the data?\n",
    "\n",
    "Note: don't just estimate it by eye, write some code to compute it for you."
   ]
  },
  {
   "cell_type": "markdown",
   "id": "566a9590",
   "metadata": {},
   "source": [
    "Really not sure how I would do this"
   ]
  },
  {
   "cell_type": "markdown",
   "id": "b608db91",
   "metadata": {},
   "source": [
    "*Your text answer here*"
   ]
  },
  {
   "cell_type": "markdown",
   "id": "ee3b5c33",
   "metadata": {},
   "source": [
    "**Q3.6** Using the number of dimensions you found in Q3.5, fit and transform your overview encodings using PCA and add it to a new column called `overview_pca` in the dataframe."
   ]
  },
  {
   "cell_type": "code",
   "execution_count": 70,
   "id": "8a6eb40b",
   "metadata": {},
   "outputs": [
    {
     "name": "stdout",
     "output_type": "stream",
     "text": [
      "[0.12527627702621094, 1.3130672688243026, 1.3210249779673096, 0.8991166078746067, 0.6967619437544855, -0.6143728752228609, 0.1598333902783351, 0.24983392414589325, 0.13019507403779215, -0.2978451623070814, 0.04937195013452966, 0.27818773431575067, 0.6739940758326647, -0.14658199004271585, 0.01696758176845415, 0.18790165972338088, -0.10538180476499621, -0.1319161262086136, -0.2645740940049908, 0.5793631185778882, -0.15784790420299868, 0.022336898249526418, -0.23861222874924476, -0.196441923396616, -0.19220385840608348, 0.13235410492483832, -0.3265318146158638, -0.1555690952183257, 0.1203583162944943, 0.01725807230490404, 0.10445147660891861, 0.11842403429068389, -0.13893359595251237, 0.005376008656701089, 0.02700085355656622, -0.08000427275381712, -0.07367563207747345, 0.043044079785139334, 0.056601349385336244, -0.014592273920122332, 0.017224636446686956, 0.04225519638231101, -0.070352610646405, -0.03331717911512866, 0.03875600163048704, -0.014286461408568481, 0.035286723795692365, 0.02854355027756063, -0.08774656396558515, -0.027157524185721253, -0.0009465772208547058, -0.014644158357859958, 0.03427389138122054, 0.04240355534439665, -0.010099202101427746, 0.06232541358265832, -0.0038967288774748145, 0.02265443721695284, -0.08214743229357306, -0.04052291146423777, 0.013074256242025847, 0.0233472096567047, 0.006831804674805907, -0.06632869940228604, -0.10317977464041608, -0.005369187191412453, -0.061155431220053985, -0.07009733470466872, 0.016898561146187006, 0.04402875782795305, -0.0023901127489769454, 0.0014621068261722462, -0.02410256097245195, 0.058521557137086025, 0.05127383337680209, -0.042333502829319684, 0.019933340567008757, 0.04472228581494029, -0.051525574253748846, 0.0011268637195713251, -0.00552285010907999, 0.03473399245642782, -0.09484429098793339, 0.03725429820666413, 0.013160172109779638, -0.033426786322484345, 0.014058449255423999, -0.08517906323683548, 0.024389683288296254, 0.017799988227764112, -0.06825656193582363, 0.007656655208891833, 0.04866839721255789, -0.020278129881960594, -0.04525690195218662, 0.0826946206093003, -0.021160611414251997, 0.04548468567193178, -0.041877246245207334, 0.0700957440900097, -0.016664353073117106, -0.018294114159542595, -0.0030581636566963176, -0.05571911476039579, -0.0060831505626830805, -0.009469360742830373, -0.07946215343620228, 0.04095141521503185, -0.0007816263820837859, 0.03506962339702038, 0.005533547221032798, -0.010853954952074637, -0.14704278315388655, -0.055628799598164975, -0.009528246718945085, 0.06705506510551804, 0.02170071039015599, 0.06416187701078196, 0.016757222191466237, 0.0867857911106195, -0.04648755350878091, 0.03230215157869775, -0.11325377875217671, 0.01860222052661431, 0.07344580073468851, 0.049827815219257984, -0.06983126505899716, -0.10332002454331972, -0.09698519188456746, -0.016384411372494773, -0.020260089629906677, -0.03912344788587526, 0.07073588614231588, -0.016149522692803737, 0.11172713602592639, -0.1606603261799346, -0.10656797998004088, -0.12458539353421791, 0.057321261329201, -0.025878329837985097, -0.16808814336995456, 0.08415410757463201, -0.07313189267420298, 0.28778423437842426, -0.11993374796451652, -0.008713677194586756, 0.16191357529364891, -0.10114640205179459, -0.21960854339762523, -0.09108547644013432, 0.005618320213083763, 0.09631708965927173, 0.24990758032000754, 0.21555802497287466, 0.13483927071448362, -0.0491451012881949, 0.058993996346970314, -0.1720687993570978, 0.10612134468112745, -0.05769962431077828, -0.1663281099921956, 0.12412152484075133, -0.09690360925264056, 0.04912756415062299, 0.01326937350473774, 0.2175468213633883, 0.05350802462560728, -0.1303573847937825, -0.11190458707865546, -0.030719114888257945, -0.03001944525635017, -0.02504450769910877, 0.06847675010953339, 0.050183067093016946, -0.038131726266464855, 0.0947179011348197, 0.07752305177612775, 0.02897737859375031, -0.012887383705392857, 0.012296411527543094, 0.04360705462137687, 0.0030707882557896066, 0.07943257651644654, 0.03376350657737561, -0.05509170813565481, -0.027745353987252527, 0.011171601911595433, 0.008366173891550793, -0.021672013784495972, 0.06263360811981228, 0.08641065645798292, 0.012800801149747645, -0.11277079764169512, 0.025022258477208636, 0.008434750136092597, -0.007594337869170075, -0.003755359752342418, 0.09320701779280965, -0.051357903468343284, 0.026849371686959764, -0.012303415395770042, 0.004632922343261353, 0.032175604042577716, -0.042703217732490396, 0.03268077402055041, 0.09964514072353944, -0.047022595187282266, 0.017860622410388525, 0.0382230880535906, 0.08294857550878601, 0.027595101404881358, 0.0654611077232872, 0.014902758888908501, -0.018861017782477885, 0.037283274426865146, -0.00601942224930264, 0.08851826884968098, -0.05449529923543356, -0.0675040075260356, 0.03250135657753721, -0.0041807631717874745, -0.053814206632064585, -0.016684917226834052, -0.07908904632633397, 0.04927359455766832, -0.03310721480971462, 0.00858264990940885, -0.02889440869998806, -0.02941154295684959, 0.09805202062945635, 0.01032227301548224, -0.059229954531071306, 0.01923525008968524, 0.043064438953738654, 0.01665610132831039, 0.014143817181743457, 0.050404688630910306, -0.024034322772481007, -0.049684763857895706, 0.004928390155634201, -0.018078570665975475, 0.0288422120896383, 0.030189671146781377, 0.02503961135572341, 0.04001174279406045, 0.03100129650260077, 0.0014618618720394951, 0.016918710504053906, 0.04311096364853015, -0.02320794360260707, -0.07035848598973501, 0.07473245738214848, -0.03211184949568741, 0.011219489821093616, -0.015563135183489157, -0.0330785121529115, -0.014875951572103623, 0.0708847676465173, 0.029873679576355516, 0.021306530087423538, -0.04291352277481003, -0.01653768345848096, -0.0034135389444390585, -0.05261810722541664, 0.0019418286311114897, -0.012478550423606816, -0.01695660935011305, -0.010888863729883078, 0.06101110362972633, 0.07157403503681684, -0.05772477286956776, -0.019715620870715243, 0.03976981505219992, 0.018934159483404288, 0.026029711595921826, -0.024709493498133332, -0.03463436248162383, -0.03163897514393121, 0.04259998895880782, -0.043737601314068876, 0.013809592134887394, 0.02750753273096816, -0.025748315145062057, -0.0312273114938739, -0.024624897693118587, 0.019792181783953852, 0.04664503993380821, 0.04946316694371054, 0.02048270253506985, -0.010753944831083412, 0.019693575732917603, 0.025007844939119714, 0.008788385620143217, -0.005957971084795747, -0.008762280746170026, -0.022374520312937164, 0.020123741518912545, 0.0023343070893293207, -0.009211862468874375, 0.011130998969469131, -0.012612681332837695, 0.041406746308654103, -0.0042924982981587005, -0.0009411156506674799, 0.029600655206463423, 0.03183676446773592, 0.002280193759290057, 0.026756543772452103, -0.02362221588115361, 0.030633030542901254, -0.036590312812658475, 0.04553311195005409, 0.05163347474994117, -0.024199690195037937, 0.036335539475016956, 0.022352688116634017, 0.09278542710722744, 0.007850396445912684, 0.035885245993924425, 0.025538638712804713, -0.06892881534617594, -0.00040227627366872285, -0.008635624591048038, -0.010742492752846814, 0.0032423575138891127, 0.0033583543480008252, -0.0067329080885234335, -0.013906814349571823, 0.04624538703524292, 0.017006151712969413, 0.00476560541279657, 0.0417968257011557, 0.008602165622843728, -0.007375619980950653, 0.0016296792451974392, -0.04557914639275227, -0.006051653985575073, 0.012708527777452579, -0.02715244800947808, 0.0021453782539078074, 0.005032778083044462, -0.030025298559807463, 0.000941365473912312, 0.000983081055905443, 0.008621094694396996, -0.00502552728390475, 0.04389525949632603, 0.03217323148522142, 0.021856313512196163, 0.02404600498339413, 0.005726616011050418, 0.035091058824218105, 0.08987422307229634, -0.021955822926074512, -0.028300438896608996, 0.017764381396188866, -0.001872849912828129, -0.02753328798257096, -0.039173447258762685, -0.06825476447614157, -0.008210274285774177, -0.03171451200591186, 0.02193930814260921, -0.0009813382061170097, -0.019104714391277974, 0.005535934590059696, 0.04715964894261409, 0.019650511358924032, -0.05805429626968382, 0.0001493232474407388, 0.053150157863727954, 0.025194689462101103, -0.026660803903596455, -0.002568513856654672, 0.01671048293558563, 0.017158905121173997, 0.014246397609434046, -0.024066330598368615, 0.016323506777679873, -0.03891999756057224, 0.03321436221512591, -0.01846659804649384, -0.046989609432027485, -0.028644397128855005, 0.0191687212269795, 0.0371006136124961, -0.03054291394823425, -0.06294486989238543, 0.026422529743629682, 0.04529030238845681, -0.019708781652036676, 0.003599190779868032, -0.013667197773852308, 0.03355130895832779, -0.05438985229239038, -0.024607699431832587, 0.01836249589480789, -0.011860566432203101, -0.022088648916429268, 0.03701784493846484, -0.02166556524232335, -0.055954176934113274, 0.0034418491769093473, -0.028018139772268604, -0.028947140704371276, 0.002179064503245229, -0.03584529152236391, 0.02351592487296086, -0.025018080104970964, -0.05361940579305966, 0.009485359384336863, 0.05666527110707825, 0.036362870775782534, -0.027118835373555156, -0.03702768987903616, 0.016652210302280406, -0.05665708370651043, 0.019730431800922696, 0.016278583470482017, -0.01376356033850961, -0.05440577155345675, 0.019931407373934878, -0.01979827918261924, 0.06028252566560856, 0.04837417733510648, -0.03224276718879253, -0.03631550486889934, 0.011638808021090206, 0.035060793853712156, -0.026022243655081188, 0.009914815165801585, -0.02255300702243752, -0.08773586566174296, 0.0009918537467903856, 0.03481913578866248, 0.02289751097700082, 0.03655259082179504, -0.022056871012509256, -0.0159721597493021, -0.03252775838019715, 0.004094680129845251, -0.03358477786872223, 0.03699756828598403, -0.028616558798017794, -0.022783221659726512, -0.03533199273474553, -0.020545941372128708, 0.047420312370838144, -0.022112585146892936, 0.022530502272929718, -0.01834033183241853, -0.014620243983121681, -0.03369092206496847, 0.00042237124064557134, -0.03571911900022594, 0.01004544188957502, -0.034410387046559444, -0.00610346067627946, 0.018176019022198654, -0.009999559933699975, 0.046606699468011256, -0.02741612361237856, -0.05463697817620828, 0.03535850385391381, 0.006937291248570521, 0.030366541051557457, 0.011962469739881888, 0.02496884991578714, 0.04418604357199881, -0.012577379137293468, 0.010280717484281882, 0.021096811680783655, 0.0865344868955728, 0.03933019185210368, -0.045453248837253074, -0.0038209461483000562, -0.006368285400886621, 0.03672660075476356, -0.009489433164660985, 0.055754562254739036, -0.01960469841821637, -0.010347020493404495, -0.04924248434102948, -0.027642622401748477, -0.026121110056957844, 0.00025855931005576785, 0.006848211322402472, 0.008296204774474921, 0.0027100894446968776, -0.030522710446868138, -0.03654925776995874, -0.007334287568716133, -0.023318657061324514, -0.028717192009184947, 0.0001418349076946178, -0.03944113393532486, 0.04874216844219792, -0.017462189477988402, 0.0067467595715754785, 0.01372162569922226, -0.0326421849825274, -0.03765689002108778, -0.026463299520416247, -0.0270623531859541, -0.03344272952165716, -0.011031996212650389, 0.009561787675372255, 0.04012267412701851, -0.021672408039842488, 0.057530589759305605, 0.0008909355738334451, -0.045436301780052514, 0.004327350582741303, -0.005783213755250487, -0.03003774511151132, -0.02465107591816615, 0.02348511591469585, -0.006416055256852884, 0.03596173486008042, 0.024067549185923978, -0.018600666821281187, -0.041517783762254214, -0.029602136289019726, 0.006889354297711181, 0.018907582443316195, 0.018058435736992874, -0.013137476647946945, 0.009396546220849613, -0.027290712521094506, -0.03620893673504984, 0.00013729055276922214, -0.01681343762514092, -0.03626936102081495, -0.0028817201542164013, 0.03663725970970347, 0.006897594148801638, 0.03553418238005665, 0.017914236945668596, -0.015003370737445473, -0.012878057720337358, -0.03235404891948158, -0.050220931442075685, 0.006820505315694871, -0.04597036942939294, -0.03207263603403206, 0.00519912525067804, 0.009088559487803387, -0.015867628711377972, -0.0009879270843666183, 0.005176102424539017, 0.007254011412850715, 0.03905930510635785, -0.02208585112437854, -0.021327503154619457, 0.01138731279630951, -0.030764793283866686, -0.01158178346861901, -0.014061356350694628, 0.027754403908898783, -0.04342140692784801, 0.005732940559927509, -0.0006285105640485737, -0.042974332395976665, 0.0073384224725799585, -0.023835176239346646, 0.025505802948490666, 0.04108876015469834, 0.0011480194744852474, -0.017450998830646165, 0.028034959945307344, 0.03572035484026591, 0.034815953016565024, 0.0469041537810784, 3.994470024311815e-05, -0.017982137087432452, 0.011275552484985235, 0.08191170837584551, -0.06220275185583676, 0.025179712960796935, -0.03273488369888996, -0.07407845916519396, 0.03500515727061751, -0.015953360831491518, -0.00894332239684569, 0.035030310553865796, -0.019953332972184584, -0.009782292179247476, -0.02361839344739094, -0.03535525199107459, 0.008367250752098356, 0.004447362877474912, -0.02602451909323835, -0.0058128729864804, -0.05252495721152106, 0.03804010375547828, -0.0059935895327520505, -0.017580438483659984, -0.034413841945784965, 0.030048467150511515, -0.07559556659225569, -0.017962904997244705, -0.028872982829074113, -0.007955743172096621, 0.005068681690660814, -0.02725834473524434, -0.0026690909991507186, 0.047576641177114284, 0.03242437145906109, 0.05125246874584842, -0.013142702690781303, -0.03170168654512673, -0.016632647788052683, -0.04796996602825207, -0.04244687606994134, 0.018509804742657246, -0.0021184092322569454, 0.020200220507662275, -0.041670254496308734, 0.03318866009726013, 0.04453304217868783, 0.020447600563372383, 0.06508759832199258, 0.027642701802806945, 0.023993680041960862, -0.022580109239946834, 0.008647925747907388, 0.05833545890880147, -0.03819834232541465, -0.03052000610228891, 0.02860515992717091, -0.033977218737035096, 0.033570776700248633, -0.04318235030890879, 0.004197267208033398, 0.02068615520856783, 0.007033627182929486, 0.015050001328655407, 0.04174971094048986, 0.014621511977562347, -0.019686531754866902, -0.02716997955791157, -0.02389344267849463, -0.004259624551811018, -0.000435883683532892, 0.006902455535063724, 0.006045318692280925, -0.04176812730185414, -0.01965008258190774, -0.02279745650640255, -0.0017777927462614468, -0.03235052625725999, 0.0717760786450779, -0.011602724628337419, -0.012556936852546345, 0.021400464632773307, 0.0008795918382730769, -0.035449384655399874, 0.035849594914470935, 0.0051852395295422975, 0.03363613030918926, -0.052352799579524975, 0.014169114338472996, -0.021963833105911507, 0.016615751133406704, -0.022375307048377466, -0.026189762151961206, -0.04768671454586498, -0.03019198760615772, -0.008333778242973084, 0.05617617117514029, 0.02434657277234808, 0.024742100631631653, -0.06143061071258318, 0.010461427323349369, -0.03519568801851527, -0.011655480961882996, -0.022739699746016556, -0.05816431489445581, -0.012381654764036625, -0.01047192315628507, 0.03553712245033203, 0.06194145711541415, 0.017196003386535475, 0.0608536101936537, -0.003328701353243016, 0.011427166910404346, 0.00706426563558044, 0.042906856729125406, -0.017096803180177606, 0.013920203267355227, -0.003986261181645317, 0.012545730338229394, -0.023637519649695245, 0.023143360968689304, -0.01361040111508573, -0.016042837848868747, -0.07037064779327348, 0.01026570072715926, -0.07087832291970561, -0.021924214828168902, 0.07989379367416875, 0.012923058072812448, -0.05364898712283765, -0.06752329176530032, -0.013162261416061947, 0.01626303003094321, -0.06724548471499782, 0.018692648642789238, 0.02309872565512706, 0.014877375394186158, 0.01412370802980167, 0.05955779222814624, 0.017121487971982163, 0.022700012657701083, 0.038311520101064374, 0.023715347912172724, 0.00952135098760973, -0.00913297542928264, 0.0008128162501251964, 0.02154938180657062, -0.06391504789148113, 0.01494742865569956, 0.03673836327398967, 0.01120519021831803, 0.06259076362482721, -0.021119487057379822, -0.029379785087728868, 0.009652829890938618, 0.013963766779432585, 0.024235595722285178, 0.007011140572029707, 0.0075494963049700095, -0.027123692673945092, 0.019150332696957557, -0.03397788660934402, 0.07279197183326751, 0.03169226423273493, -0.03229347050302662, 0.030702668568376945, -0.059608651509067634, 0.04837551386171726, -0.0843333570276848, -0.005070984198401333, 0.027340110724435204, -0.006964436313747653, -0.06954531158676396, -0.024707337024837406, 0.03566868252058668, -0.010379786235282136, 0.011699084039594432, 0.02139842871303719, 0.020006303311441025, 0.001971938585544372, -0.02102424218599718, 0.0006391673565249018, -0.018023571019066757, -0.004026828130474078, -0.014634004705330035, -0.019701775656565366, 0.03006487872524858, -0.004061916438611832, -0.010004660806346523, 0.08765703832127628, 0.02548403574311707, -0.01870459020512748, -0.0005372978506728945, -0.05652397374698385, -0.02446837230693672, 0.05157051886845793, 0.03726335875802348, 0.007208619461104999, 0.01517554193276406, -0.07203758735091684, -0.019341446941172655, 0.028147604725982562, -0.04826845602104367, 0.013822744708464823, -0.005200713592650275, 0.0631146857513577, 0.016896544382626662, 0.03908941002686399, 0.026644195841662104, 0.01687434082665749, 0.013737556681312343, -0.0794858790411893, -0.04858785946793717, -0.014244279715744093, -0.00038729461266197985, 0.053378924027424855, -0.0025137327651627937, 0.05871055043266441, 0.029268529189737595, 0.03279496858064242, 0.10106159849929153, -0.04101971770197823, -0.041823208302338176, 0.011833568568333501, 0.07508342200749366, -0.009978084830977533, -0.012451270623359035, -0.0182909122912364, -0.0007969122002693076, -0.041141977944694756, 0.06769236156458032, 0.006823292445694373, 0.004605317032692991, -0.03364903375773811, 0.03773015096820534, 0.1037395192938704, -0.010227396470537107, 0.012347778277727798, 0.01357399904735165, -0.011325348680275066, 0.07578458264787882, -0.05701698231241441, 0.055227628021239615, -0.10468663454351929, -0.019233287225248533, -0.013859149090465773, 0.04362590684422621, 0.0076336689305504185, 0.021367922733425693, 0.03821805797887044, -0.010312095675444003, 0.003554990245519555, 0.0437572778364703, -0.04477025437864943, -0.024021286815706797, -0.019453183508388542, 0.026219756786544018, -0.018387574321654058, -0.037890009729700226, -0.0007060047777053839, -0.03843158483252689, 0.011901809345140056, -0.020371823608916546, 0.02594164494442714, -0.023128203506996414, 0.015272002918786129, 0.005066908627502472, 0.005181113523909678, 0.04458094051585757, 0.036112856464235135, -0.005578721518055012, 0.02032189775268778, -0.031789050684069, 0.04911385030642085, -0.06075751942624294, -0.05443218373105731, 0.028217999083023457, -0.026691159692654818, -0.04566555535341337, -0.018347667853587275, -0.02694108856554764, 0.017004213691269768, -0.02006800003054158, -0.03706880115704497, -0.008829512096454946, -0.004119783983490829, -0.020606162614179746, 0.015232476786646463, 0.0019019563994472299, 0.0046454400703243234, 0.004198572541430802, 0.0823787722022137, 0.014428955701030071, 0.04992701459315215, 0.047820852442236696, -0.042491513769600205, 0.006120593554059916, -0.10547849062967261, 0.05931953283670533, -0.0482386732484292, -0.004343380389883578, -0.06674050887974756, 0.036822942224051844, -0.008022344493336062, -0.07197273974638412, -0.00610133536561526, 0.05530443691676999, 0.006044923923279441, -0.07308443367046155, -0.01092303625444751, -0.03737429854782542, 0.020423130085723832, -0.0009777426835048605, 0.006478985312156091, -0.028709183549696624, 0.021432136770552817, 0.0021517935993238604, -0.010368432377053026, -0.014423842034688354, -0.026642265133046215, 0.023081945939116097, -0.09470736701417036, -0.01761086327637415, -0.018249687518118833, 0.10400496985358627, 0.06514551276403169, 0.008715981200857122, 0.06090692015218834, -0.0445594160522276, -0.03470819001432349, 0.004970121775473125, -0.04113651900903103, -0.0026616251601059163, -0.01815774542180444, -0.019914808736369676, 0.04416687093678461, 0.023606247118175404, -0.005988486151892092, -0.019298688773765012, 0.0273121023902972, -0.017751767807459257, 0.018526063177714075, 0.00118409281441862, 0.0025139366052733345, 0.002886639601098101, 0.07127006104330395, -0.007012321247610001, -0.06259443031391211, 0.08900775872932899, 0.05945276243214807, -0.04360487804726113, 0.028683756560183415, 0.06488512596783728, 0.037586980890868836, -0.01421492614241546, -0.013997081069313836, 0.0257088198303831, 0.022816847670482247, 0.07083795375640974, 0.061496555325414086, 0.010200277588465947, 0.015705188904165085, -0.065228168763036, 0.10388942076163474, 0.0028119895312278577, -0.0382279578946501, 0.08548838688415578, 0.040139942309033096, -0.06155913552439352, -0.05766613298922136, 0.06325572188363256, -0.08441149725995645, 0.012815880123204237, -0.034369283954120915, 0.025122142694097942, 0.008982649791889048, 0.08331801203566626, -0.0156878970378454, 0.055341580027612206, -0.028070906663146107, 0.00044975835086801777, 0.07015068651283937, -0.016765463164213526, 0.02870780012290537, -0.10445929577660032, -0.05332116845258861, -0.029731465122878067, -0.07310178634457583, 0.1421143396769104, -0.08563710530066627, 0.040695366458078676, 0.009793536385267625, -0.03146466185875077, -0.01864024145547977, 0.05486048919139018, 0.02140606349981587, -0.1727796695636342, 0.12485588109501067, 0.07106541155473349, 0.013353957930605261, 0.037851151944588324, -0.04006286705761255, 0.014791197435299844, -0.05084767359930156, 0.008819276501218455, -0.014233363468909145, 0.022336266211727837, 0.015954018989452267, 0.012169510261654201, -0.03793838649741877, 0.00842332554438899, -0.039855014831858424, -0.00151670898700126, 0.0397884993754385, 0.07331423594833744, 0.007102460488533023, -0.010656745403369168, -0.060272096044119546, 0.08216121250413752, 0.07297927256321034, -0.03565596505745545, 0.05807959756148551, -0.00766872803245054, 0.0013782947238592453, 0.01108437473152279, -0.02065713914470788, -0.0692538340459463]\n"
     ]
    },
    {
     "name": "stderr",
     "output_type": "stream",
     "text": [
      "C:\\Users\\andre\\AppData\\Local\\Temp\\ipykernel_19616\\1643920394.py:4: SettingWithCopyWarning: \n",
      "A value is trying to be set on a copy of a slice from a DataFrame.\n",
      "Try using .loc[row_indexer,col_indexer] = value instead\n",
      "\n",
      "See the caveats in the documentation: https://pandas.pydata.org/pandas-docs/stable/user_guide/indexing.html#returning-a-view-versus-a-copy\n",
      "  df2[\"overview_pca\"] = labels_pca.tolist()\n"
     ]
    }
   ],
   "source": [
    "n_dims = 1000 \n",
    "pca = PCA(n_components=n_dims)\n",
    "labels_pca = pca.fit_transform(df2['one_hot_overview'].values.tolist())\n",
    "df2[\"overview_pca\"] = labels_pca.tolist()\n",
    "print(df2[\"overview_pca\"][0])"
   ]
  },
  {
   "cell_type": "markdown",
   "id": "309d3256",
   "metadata": {},
   "source": [
    "# Q4 K-Means Clustering\n",
    "\n",
    "**Q4.1** Cluster the movies based on the features that were extracted via PCA in the last step. Set $K=20$. Add the predicted cluster into the dataframe as a new column called `cluster_kmeans`. Print out the elements of cluster number 0 from the dataframe."
   ]
  },
  {
   "cell_type": "code",
   "execution_count": 73,
   "id": "f5f5781e",
   "metadata": {},
   "outputs": [
    {
     "name": "stderr",
     "output_type": "stream",
     "text": [
      "C:\\Users\\andre\\AppData\\Local\\Temp\\ipykernel_19616\\1430087520.py:16: SettingWithCopyWarning: \n",
      "A value is trying to be set on a copy of a slice from a DataFrame.\n",
      "Try using .loc[row_indexer,col_indexer] = value instead\n",
      "\n",
      "See the caveats in the documentation: https://pandas.pydata.org/pandas-docs/stable/user_guide/indexing.html#returning-a-view-versus-a-copy\n",
      "  df2[\"cluster_kmeans\"] = y_preds\n"
     ]
    }
   ],
   "source": [
    "# import KMeans class\n",
    "from sklearn.cluster import KMeans\n",
    "from sklearn.cluster import KMeans\n",
    "\n",
    "# Perform K-means clustering\n",
    "\n",
    "\n",
    "\n",
    "\n",
    "# Perform K-means clustering\n",
    "kmeans = KMeans(n_clusters=20)\n",
    "# fit model\n",
    "kmeans.fit(x_train_reshaped)\n",
    "\n",
    "y_preds = kmeans.predict(x_train_reshaped)\n",
    "df2[\"cluster_kmeans\"] = y_preds\n",
    "\n",
    "# print out elements of cluster 0\n",
    "\n",
    "cluster0_elements = df2[df2[\"cluster_kmeans\" ] == 0]"
   ]
  },
  {
   "cell_type": "code",
   "execution_count": 75,
   "id": "c8427f74",
   "metadata": {},
   "outputs": [
    {
     "data": {
      "text/html": [
       "<div>\n",
       "<style scoped>\n",
       "    .dataframe tbody tr th:only-of-type {\n",
       "        vertical-align: middle;\n",
       "    }\n",
       "\n",
       "    .dataframe tbody tr th {\n",
       "        vertical-align: top;\n",
       "    }\n",
       "\n",
       "    .dataframe thead th {\n",
       "        text-align: right;\n",
       "    }\n",
       "</style>\n",
       "<table border=\"1\" class=\"dataframe\">\n",
       "  <thead>\n",
       "    <tr style=\"text-align: right;\">\n",
       "      <th></th>\n",
       "      <th>title</th>\n",
       "      <th>overview</th>\n",
       "      <th>genres</th>\n",
       "      <th>proc_genres</th>\n",
       "      <th>one_hot_genres</th>\n",
       "      <th>proc_overview</th>\n",
       "      <th>overview_len</th>\n",
       "      <th>one_hot_overview</th>\n",
       "      <th>overview_pca</th>\n",
       "      <th>cluster_kmeans</th>\n",
       "    </tr>\n",
       "  </thead>\n",
       "  <tbody>\n",
       "    <tr>\n",
       "      <th>14</th>\n",
       "      <td>Man of Steel</td>\n",
       "      <td>A young boy learns that he has extraordinary p...</td>\n",
       "      <td>[{\"id\": 28, \"name\": \"Action\"}, {\"id\": 12, \"nam...</td>\n",
       "      <td>Fantasy</td>\n",
       "      <td>[0.0, 0.0, 0.0, 0.0, 0.0, 0.0, 0.0, 0.0, 1.0, ...</td>\n",
       "      <td>[A, young, boy, learns, that, he, has, extraor...</td>\n",
       "      <td>289</td>\n",
       "      <td>[0.0, 0.0, 0.0, 0.0, 0.0, 0.0, 0.0, 0.0, 0.0, ...</td>\n",
       "      <td>[0.013787774002506076, -0.6288788476987915, -0...</td>\n",
       "      <td>0</td>\n",
       "    </tr>\n",
       "    <tr>\n",
       "      <th>131</th>\n",
       "      <td>G-Force</td>\n",
       "      <td>A team of trained secret agent animals, guinea...</td>\n",
       "      <td>[{\"id\": 14, \"name\": \"Fantasy\"}, {\"id\": 28, \"na...</td>\n",
       "      <td>Adventure</td>\n",
       "      <td>[0.0, 1.0, 0.0, 0.0, 0.0, 0.0, 0.0, 0.0, 0.0, ...</td>\n",
       "      <td>[A, team, of, trained, secret, agent, animals,...</td>\n",
       "      <td>354</td>\n",
       "      <td>[0.0, 0.0, 0.0, 0.0, 0.0, 0.0, 0.0, 0.0, 0.0, ...</td>\n",
       "      <td>[0.12462707212040698, -0.676669030943385, -0.9...</td>\n",
       "      <td>0</td>\n",
       "    </tr>\n",
       "    <tr>\n",
       "      <th>132</th>\n",
       "      <td>Wrath of the Titans</td>\n",
       "      <td>A decade after his heroic defeat of the monstr...</td>\n",
       "      <td>[{\"id\": 12, \"name\": \"Adventure\"}]</td>\n",
       "      <td>Adventure</td>\n",
       "      <td>[0.0, 1.0, 0.0, 0.0, 0.0, 0.0, 0.0, 0.0, 0.0, ...</td>\n",
       "      <td>[A, decade, after, his, heroic, defeat, of, th...</td>\n",
       "      <td>464</td>\n",
       "      <td>[0.0, 0.0, 0.0, 0.0, 0.0, 0.0, 0.0, 0.0, 0.0, ...</td>\n",
       "      <td>[1.233180319442221, 0.01890704046297269, -0.41...</td>\n",
       "      <td>0</td>\n",
       "    </tr>\n",
       "    <tr>\n",
       "      <th>198</th>\n",
       "      <td>R.I.P.D.</td>\n",
       "      <td>A recently slain cop joins a team of undead po...</td>\n",
       "      <td>[{\"id\": 14, \"name\": \"Fantasy\"}, {\"id\": 28, \"na...</td>\n",
       "      <td>Action</td>\n",
       "      <td>[1.0, 0.0, 0.0, 0.0, 0.0, 0.0, 0.0, 0.0, 0.0, ...</td>\n",
       "      <td>[A, recently, slain, cop, joins, a, team, of, ...</td>\n",
       "      <td>180</td>\n",
       "      <td>[0.0, 0.0, 0.0, 0.0, 0.0, 0.0, 0.0, 0.0, 0.0, ...</td>\n",
       "      <td>[0.36892395627839675, 0.639085227023472, -0.06...</td>\n",
       "      <td>0</td>\n",
       "    </tr>\n",
       "    <tr>\n",
       "      <th>220</th>\n",
       "      <td>Prometheus</td>\n",
       "      <td>A team of explorers discover a clue to the ori...</td>\n",
       "      <td>[{\"id\": 878, \"name\": \"Science Fiction\"}, {\"id\"...</td>\n",
       "      <td>Science Fiction</td>\n",
       "      <td>[0.0, 0.0, 0.0, 0.0, 0.0, 0.0, 0.0, 0.0, 0.0, ...</td>\n",
       "      <td>[A, team, of, explorers, discover, a, clue, to...</td>\n",
       "      <td>214</td>\n",
       "      <td>[0.0, 0.0, 0.0, 0.0, 0.0, 0.0, 0.0, 0.0, 0.0, ...</td>\n",
       "      <td>[0.6959745881301375, 0.7571563832749724, 0.333...</td>\n",
       "      <td>0</td>\n",
       "    </tr>\n",
       "    <tr>\n",
       "      <th>...</th>\n",
       "      <td>...</td>\n",
       "      <td>...</td>\n",
       "      <td>...</td>\n",
       "      <td>...</td>\n",
       "      <td>...</td>\n",
       "      <td>...</td>\n",
       "      <td>...</td>\n",
       "      <td>...</td>\n",
       "      <td>...</td>\n",
       "      <td>...</td>\n",
       "    </tr>\n",
       "    <tr>\n",
       "      <th>4641</th>\n",
       "      <td>Teeth and Blood</td>\n",
       "      <td>A beautiful diva is murdered on the set of hor...</td>\n",
       "      <td>[{\"id\": 27, \"name\": \"Horror\"}]</td>\n",
       "      <td>Horror</td>\n",
       "      <td>[0.0, 0.0, 0.0, 0.0, 0.0, 0.0, 0.0, 0.0, 0.0, ...</td>\n",
       "      <td>[A, beautiful, diva, is, murdered, on, the, se...</td>\n",
       "      <td>612</td>\n",
       "      <td>[0.0, 0.0, 0.0, 0.0, 0.0, 0.0, 0.0, 0.0, 0.0, ...</td>\n",
       "      <td>[0.8802572879771468, -0.03776728540373344, -0....</td>\n",
       "      <td>0</td>\n",
       "    </tr>\n",
       "    <tr>\n",
       "      <th>4733</th>\n",
       "      <td>The Past Is a Grotesque Animal</td>\n",
       "      <td>A personal, accessible look at an artist - Kev...</td>\n",
       "      <td>[{\"id\": 99, \"name\": \"Documentary\"}, {\"id\": 104...</td>\n",
       "      <td>Documentary</td>\n",
       "      <td>[0.0, 0.0, 0.0, 0.0, 0.0, 1.0, 0.0, 0.0, 0.0, ...</td>\n",
       "      <td>[A, personal, accessible, look, at, an, artist...</td>\n",
       "      <td>386</td>\n",
       "      <td>[0.0, 0.0, 0.0, 0.0, 0.0, 0.0, 0.0, 0.0, 0.0, ...</td>\n",
       "      <td>[0.9070832818404622, -0.18646866734563397, -0....</td>\n",
       "      <td>0</td>\n",
       "    </tr>\n",
       "    <tr>\n",
       "      <th>4753</th>\n",
       "      <td>The Call of Cthulhu</td>\n",
       "      <td>A dying professor leaves his great-nephew a co...</td>\n",
       "      <td>[{\"id\": 27, \"name\": \"Horror\"}, {\"id\": 53, \"nam...</td>\n",
       "      <td>Fantasy</td>\n",
       "      <td>[0.0, 0.0, 0.0, 0.0, 0.0, 0.0, 0.0, 0.0, 1.0, ...</td>\n",
       "      <td>[A, dying, professor, leaves, his, greatnephew...</td>\n",
       "      <td>345</td>\n",
       "      <td>[0.0, 0.0, 0.0, 0.0, 0.0, 0.0, 0.0, 0.0, 0.0, ...</td>\n",
       "      <td>[0.2186459897013, 0.22158018701576623, 0.61718...</td>\n",
       "      <td>0</td>\n",
       "    </tr>\n",
       "    <tr>\n",
       "      <th>4766</th>\n",
       "      <td>The Legend of God's Gun</td>\n",
       "      <td>A gun-slinging preacher returns to the debauch...</td>\n",
       "      <td>[{\"id\": 28, \"name\": \"Action\"}, {\"id\": 37, \"nam...</td>\n",
       "      <td>Western</td>\n",
       "      <td>[0.0, 0.0, 0.0, 0.0, 0.0, 0.0, 0.0, 0.0, 0.0, ...</td>\n",
       "      <td>[A, gunslinging, preacher, returns, to, the, d...</td>\n",
       "      <td>457</td>\n",
       "      <td>[0.0, 0.0, 0.0, 0.0, 0.0, 0.0, 0.0, 0.0, 0.0, ...</td>\n",
       "      <td>[1.5337639809372272, -0.09816018533177992, 0.8...</td>\n",
       "      <td>0</td>\n",
       "    </tr>\n",
       "    <tr>\n",
       "      <th>4796</th>\n",
       "      <td>Newlyweds</td>\n",
       "      <td>A newlywed couple's honeymoon is upended by th...</td>\n",
       "      <td>[{\"id\": 35, \"name\": \"Comedy\"}, {\"id\": 10749, \"...</td>\n",
       "      <td>Comedy</td>\n",
       "      <td>[0.0, 0.0, 0.0, 1.0, 0.0, 0.0, 0.0, 0.0, 0.0, ...</td>\n",
       "      <td>[A, newlywed, couples, honeymoon, is, upended,...</td>\n",
       "      <td>83</td>\n",
       "      <td>[0.0, 0.0, 0.0, 0.0, 0.0, 0.0, 0.0, 0.0, 0.0, ...</td>\n",
       "      <td>[0.8512397107148729, -0.12175537244088604, -0....</td>\n",
       "      <td>0</td>\n",
       "    </tr>\n",
       "  </tbody>\n",
       "</table>\n",
       "<p>181 rows × 10 columns</p>\n",
       "</div>"
      ],
      "text/plain": [
       "                               title  \\\n",
       "14                      Man of Steel   \n",
       "131                          G-Force   \n",
       "132              Wrath of the Titans   \n",
       "198                         R.I.P.D.   \n",
       "220                       Prometheus   \n",
       "...                              ...   \n",
       "4641                 Teeth and Blood   \n",
       "4733  The Past Is a Grotesque Animal   \n",
       "4753             The Call of Cthulhu   \n",
       "4766         The Legend of God's Gun   \n",
       "4796                       Newlyweds   \n",
       "\n",
       "                                               overview  \\\n",
       "14    A young boy learns that he has extraordinary p...   \n",
       "131   A team of trained secret agent animals, guinea...   \n",
       "132   A decade after his heroic defeat of the monstr...   \n",
       "198   A recently slain cop joins a team of undead po...   \n",
       "220   A team of explorers discover a clue to the ori...   \n",
       "...                                                 ...   \n",
       "4641  A beautiful diva is murdered on the set of hor...   \n",
       "4733  A personal, accessible look at an artist - Kev...   \n",
       "4753  A dying professor leaves his great-nephew a co...   \n",
       "4766  A gun-slinging preacher returns to the debauch...   \n",
       "4796  A newlywed couple's honeymoon is upended by th...   \n",
       "\n",
       "                                                 genres      proc_genres  \\\n",
       "14    [{\"id\": 28, \"name\": \"Action\"}, {\"id\": 12, \"nam...          Fantasy   \n",
       "131   [{\"id\": 14, \"name\": \"Fantasy\"}, {\"id\": 28, \"na...        Adventure   \n",
       "132                   [{\"id\": 12, \"name\": \"Adventure\"}]        Adventure   \n",
       "198   [{\"id\": 14, \"name\": \"Fantasy\"}, {\"id\": 28, \"na...           Action   \n",
       "220   [{\"id\": 878, \"name\": \"Science Fiction\"}, {\"id\"...  Science Fiction   \n",
       "...                                                 ...              ...   \n",
       "4641                     [{\"id\": 27, \"name\": \"Horror\"}]           Horror   \n",
       "4733  [{\"id\": 99, \"name\": \"Documentary\"}, {\"id\": 104...      Documentary   \n",
       "4753  [{\"id\": 27, \"name\": \"Horror\"}, {\"id\": 53, \"nam...          Fantasy   \n",
       "4766  [{\"id\": 28, \"name\": \"Action\"}, {\"id\": 37, \"nam...          Western   \n",
       "4796  [{\"id\": 35, \"name\": \"Comedy\"}, {\"id\": 10749, \"...           Comedy   \n",
       "\n",
       "                                         one_hot_genres  \\\n",
       "14    [0.0, 0.0, 0.0, 0.0, 0.0, 0.0, 0.0, 0.0, 1.0, ...   \n",
       "131   [0.0, 1.0, 0.0, 0.0, 0.0, 0.0, 0.0, 0.0, 0.0, ...   \n",
       "132   [0.0, 1.0, 0.0, 0.0, 0.0, 0.0, 0.0, 0.0, 0.0, ...   \n",
       "198   [1.0, 0.0, 0.0, 0.0, 0.0, 0.0, 0.0, 0.0, 0.0, ...   \n",
       "220   [0.0, 0.0, 0.0, 0.0, 0.0, 0.0, 0.0, 0.0, 0.0, ...   \n",
       "...                                                 ...   \n",
       "4641  [0.0, 0.0, 0.0, 0.0, 0.0, 0.0, 0.0, 0.0, 0.0, ...   \n",
       "4733  [0.0, 0.0, 0.0, 0.0, 0.0, 1.0, 0.0, 0.0, 0.0, ...   \n",
       "4753  [0.0, 0.0, 0.0, 0.0, 0.0, 0.0, 0.0, 0.0, 1.0, ...   \n",
       "4766  [0.0, 0.0, 0.0, 0.0, 0.0, 0.0, 0.0, 0.0, 0.0, ...   \n",
       "4796  [0.0, 0.0, 0.0, 1.0, 0.0, 0.0, 0.0, 0.0, 0.0, ...   \n",
       "\n",
       "                                          proc_overview  overview_len  \\\n",
       "14    [A, young, boy, learns, that, he, has, extraor...           289   \n",
       "131   [A, team, of, trained, secret, agent, animals,...           354   \n",
       "132   [A, decade, after, his, heroic, defeat, of, th...           464   \n",
       "198   [A, recently, slain, cop, joins, a, team, of, ...           180   \n",
       "220   [A, team, of, explorers, discover, a, clue, to...           214   \n",
       "...                                                 ...           ...   \n",
       "4641  [A, beautiful, diva, is, murdered, on, the, se...           612   \n",
       "4733  [A, personal, accessible, look, at, an, artist...           386   \n",
       "4753  [A, dying, professor, leaves, his, greatnephew...           345   \n",
       "4766  [A, gunslinging, preacher, returns, to, the, d...           457   \n",
       "4796  [A, newlywed, couples, honeymoon, is, upended,...            83   \n",
       "\n",
       "                                       one_hot_overview  \\\n",
       "14    [0.0, 0.0, 0.0, 0.0, 0.0, 0.0, 0.0, 0.0, 0.0, ...   \n",
       "131   [0.0, 0.0, 0.0, 0.0, 0.0, 0.0, 0.0, 0.0, 0.0, ...   \n",
       "132   [0.0, 0.0, 0.0, 0.0, 0.0, 0.0, 0.0, 0.0, 0.0, ...   \n",
       "198   [0.0, 0.0, 0.0, 0.0, 0.0, 0.0, 0.0, 0.0, 0.0, ...   \n",
       "220   [0.0, 0.0, 0.0, 0.0, 0.0, 0.0, 0.0, 0.0, 0.0, ...   \n",
       "...                                                 ...   \n",
       "4641  [0.0, 0.0, 0.0, 0.0, 0.0, 0.0, 0.0, 0.0, 0.0, ...   \n",
       "4733  [0.0, 0.0, 0.0, 0.0, 0.0, 0.0, 0.0, 0.0, 0.0, ...   \n",
       "4753  [0.0, 0.0, 0.0, 0.0, 0.0, 0.0, 0.0, 0.0, 0.0, ...   \n",
       "4766  [0.0, 0.0, 0.0, 0.0, 0.0, 0.0, 0.0, 0.0, 0.0, ...   \n",
       "4796  [0.0, 0.0, 0.0, 0.0, 0.0, 0.0, 0.0, 0.0, 0.0, ...   \n",
       "\n",
       "                                           overview_pca  cluster_kmeans  \n",
       "14    [0.013787774002506076, -0.6288788476987915, -0...               0  \n",
       "131   [0.12462707212040698, -0.676669030943385, -0.9...               0  \n",
       "132   [1.233180319442221, 0.01890704046297269, -0.41...               0  \n",
       "198   [0.36892395627839675, 0.639085227023472, -0.06...               0  \n",
       "220   [0.6959745881301375, 0.7571563832749724, 0.333...               0  \n",
       "...                                                 ...             ...  \n",
       "4641  [0.8802572879771468, -0.03776728540373344, -0....               0  \n",
       "4733  [0.9070832818404622, -0.18646866734563397, -0....               0  \n",
       "4753  [0.2186459897013, 0.22158018701576623, 0.61718...               0  \n",
       "4766  [1.5337639809372272, -0.09816018533177992, 0.8...               0  \n",
       "4796  [0.8512397107148729, -0.12175537244088604, -0....               0  \n",
       "\n",
       "[181 rows x 10 columns]"
      ]
     },
     "execution_count": 75,
     "metadata": {},
     "output_type": "execute_result"
    }
   ],
   "source": [
    "cluster0_elements"
   ]
  },
  {
   "cell_type": "markdown",
   "id": "34334c6c",
   "metadata": {},
   "source": [
    "**Q4.2** Does this clustering seem alright to you (based on your movie watching history)? Are there movies that go well together and movies that don't?"
   ]
  },
  {
   "cell_type": "markdown",
   "id": "9f1d40cc",
   "metadata": {},
   "source": [
    "They all start with \"A\" so it looks as at movies that have a protagonist?\n",
    "Maybe 20 clusters is too little as it is grouping 180 movies, I would prefer a cluster thas has less movies."
   ]
  },
  {
   "cell_type": "markdown",
   "id": "0407f9e4",
   "metadata": {},
   "source": [
    "**Q4.3** Now, we'll figure out whether using the elbow method is right for this dataset. Plot a loss (using `kmeans.inertia_`) versus cluster size plot. Is there an elbow that you see clearly? What cluster size would you choose?"
   ]
  },
  {
   "cell_type": "markdown",
   "id": "4984dcd9",
   "metadata": {},
   "source": [
    "*Your text answer here*"
   ]
  },
  {
   "cell_type": "code",
   "execution_count": null,
   "id": "cb3a37ee",
   "metadata": {},
   "outputs": [],
   "source": [
    "cluster_sizes = []\n",
    "losses = []\n",
    "\n",
    "\n",
    "for n_clusters in range(1, 21):\n",
    "    kmeans = KMeans(n_clusters=n_clusters)\n",
    "    kmeans.fit(x_train_reshaped)\n",
    "    cluster_sizes.append(n_clusters)\n",
    "    losses.append(kmeans.inertia_)\n",
    "\n",
    "\n"
   ]
  },
  {
   "cell_type": "code",
   "execution_count": 77,
   "id": "3ab65c72",
   "metadata": {},
   "outputs": [
    {
     "data": {
      "image/png": "[encoded data removed]",
      "text/plain": [
       "<Figure size 640x480 with 1 Axes>"
      ]
     },
     "metadata": {},
     "output_type": "display_data"
    }
   ],
   "source": [
    "plt.plot(cluster_sizes, losses, marker='o')\n",
    "plt.xlabel('Clusters')\n",
    "plt.ylabel('Within-Cluster Sum of Squares (WCSS)')\n",
    "plt.title('Elbow Method')\n",
    "plt.show()"
   ]
  },
  {
   "cell_type": "markdown",
   "id": "3e89e224",
   "metadata": {},
   "source": [
    "# Q5 Gaussian Mixture Models\n",
    "\n",
    "**Q5.1** As with the K-means above, cluster the movies based on the features that were extracted via PCA in a previous step. Set $K=20$. Add the predicted cluster into the dataframe as a new column called `cluster_gmm`. Print out the elements of a single cluster of your choice from the dataframe."
   ]
  },
  {
   "cell_type": "code",
   "execution_count": 79,
   "id": "86735028",
   "metadata": {},
   "outputs": [
    {
     "name": "stdout",
     "output_type": "stream",
     "text": [
      "                                      title  \\\n",
      "27                               Battleship   \n",
      "68                                 Iron Man   \n",
      "69                                     Hugo   \n",
      "102   The Hunger Games: Mockingjay - Part 2   \n",
      "127                      Mad Max: Fury Road   \n",
      "...                                     ...   \n",
      "4741                        Happy Christmas   \n",
      "4744                  Supporting Characters   \n",
      "4752                               Counting   \n",
      "4760            Smiling Fish & Goat On Fire   \n",
      "4792                                   Bang   \n",
      "\n",
      "                                               overview  \\\n",
      "27    When mankind beams a radio signal into space, ...   \n",
      "68    After being held captive in an Afghan cave, bi...   \n",
      "69    Hugo is an orphan boy living in the walls of a...   \n",
      "102   With the nation of Panem in a full scale war, ...   \n",
      "127   An apocalyptic story set in the furthest reach...   \n",
      "...                                                 ...   \n",
      "4741  After a breakup with her boyfriend, a young wo...   \n",
      "4744  Two New York film editors balance their person...   \n",
      "4752  An associative collection of visual impression...   \n",
      "4760  Two brothers share a house in LA's Fairfax dis...   \n",
      "4792  A young woman in L.A. is having a bad day: she...   \n",
      "\n",
      "                                                 genres      proc_genres  \\\n",
      "27    [{\"id\": 53, \"name\": \"Thriller\"}, {\"id\": 28, \"n...  Science Fiction   \n",
      "68    [{\"id\": 28, \"name\": \"Action\"}, {\"id\": 878, \"na...  Science Fiction   \n",
      "69    [{\"id\": 12, \"name\": \"Adventure\"}, {\"id\": 18, \"...            Drama   \n",
      "102   [{\"id\": 28, \"name\": \"Action\"}, {\"id\": 12, \"nam...        Adventure   \n",
      "127   [{\"id\": 28, \"name\": \"Action\"}, {\"id\": 12, \"nam...         Thriller   \n",
      "...                                                 ...              ...   \n",
      "4741  [{\"id\": 35, \"name\": \"Comedy\"}, {\"id\": 18, \"nam...            Drama   \n",
      "4744  [{\"id\": 18, \"name\": \"Drama\"}, {\"id\": 35, \"name...            Drama   \n",
      "4752                [{\"id\": 99, \"name\": \"Documentary\"}]      Documentary   \n",
      "4760  [{\"id\": 35, \"name\": \"Comedy\"}, {\"id\": 10749, \"...           Comedy   \n",
      "4792                      [{\"id\": 18, \"name\": \"Drama\"}]            Drama   \n",
      "\n",
      "                                         one_hot_genres  \\\n",
      "27    [0.0, 0.0, 0.0, 0.0, 0.0, 0.0, 0.0, 0.0, 0.0, ...   \n",
      "68    [0.0, 0.0, 0.0, 0.0, 0.0, 0.0, 0.0, 0.0, 0.0, ...   \n",
      "69    [0.0, 0.0, 0.0, 0.0, 0.0, 0.0, 1.0, 0.0, 0.0, ...   \n",
      "102   [0.0, 1.0, 0.0, 0.0, 0.0, 0.0, 0.0, 0.0, 0.0, ...   \n",
      "127   [0.0, 0.0, 0.0, 0.0, 0.0, 0.0, 0.0, 0.0, 0.0, ...   \n",
      "...                                                 ...   \n",
      "4741  [0.0, 0.0, 0.0, 0.0, 0.0, 0.0, 1.0, 0.0, 0.0, ...   \n",
      "4744  [0.0, 0.0, 0.0, 0.0, 0.0, 0.0, 1.0, 0.0, 0.0, ...   \n",
      "4752  [0.0, 0.0, 0.0, 0.0, 0.0, 1.0, 0.0, 0.0, 0.0, ...   \n",
      "4760  [0.0, 0.0, 0.0, 1.0, 0.0, 0.0, 0.0, 0.0, 0.0, ...   \n",
      "4792  [0.0, 0.0, 0.0, 0.0, 0.0, 0.0, 1.0, 0.0, 0.0, ...   \n",
      "\n",
      "                                          proc_overview  overview_len  \\\n",
      "27    [When, mankind, beams, a, radio, signal, into,...           525   \n",
      "68    [After, being, held, captive, in, an, Afghan, ...           130   \n",
      "69    [Hugo, is, an, orphan, boy, living, in, the, w...           715   \n",
      "102   [With, the, nation, of, Panem, in, a, full, sc...           503   \n",
      "127   [An, apocalyptic, story, set, in, the, furthes...           571   \n",
      "...                                                 ...           ...   \n",
      "4741  [After, a, breakup, with, her, boyfriend, a, y...           112   \n",
      "4744  [Two, New, York, film, editors, balance, their...            96   \n",
      "4752  [An, associative, collection, of, visual, impr...           220   \n",
      "4760  [Two, brothers, share, a, house, in, LAs, Fair...           662   \n",
      "4792  [A, young, woman, in, LA, is, having, a, bad, ...           652   \n",
      "\n",
      "                                       one_hot_overview  \\\n",
      "27    [0.0, 0.0, 0.0, 0.0, 0.0, 0.0, 0.0, 0.0, 0.0, ...   \n",
      "68    [0.0, 0.0, 0.0, 0.0, 0.0, 0.0, 0.0, 0.0, 0.0, ...   \n",
      "69    [0.0, 0.0, 0.0, 0.0, 0.0, 0.0, 0.0, 0.0, 0.0, ...   \n",
      "102   [0.0, 0.0, 0.0, 0.0, 0.0, 0.0, 0.0, 0.0, 0.0, ...   \n",
      "127   [0.0, 0.0, 0.0, 0.0, 0.0, 0.0, 0.0, 0.0, 0.0, ...   \n",
      "...                                                 ...   \n",
      "4741  [0.0, 0.0, 0.0, 0.0, 0.0, 0.0, 0.0, 0.0, 0.0, ...   \n",
      "4744  [0.0, 0.0, 0.0, 0.0, 0.0, 0.0, 0.0, 0.0, 0.0, ...   \n",
      "4752  [0.0, 0.0, 0.0, 0.0, 0.0, 0.0, 0.0, 0.0, 0.0, ...   \n",
      "4760  [0.0, 0.0, 0.0, 0.0, 0.0, 0.0, 0.0, 0.0, 0.0, ...   \n",
      "4792  [0.0, 0.0, 0.0, 0.0, 0.0, 0.0, 0.0, 0.0, 0.0, ...   \n",
      "\n",
      "                                           overview_pca  cluster_kmeans  \\\n",
      "27    [-1.2319492678594368, 0.9052865431085266, 0.03...               7   \n",
      "68    [-0.7239736420215671, 0.07454072267663113, -0....               5   \n",
      "69    [0.38533669575300095, 0.8359123228705657, -0.0...              10   \n",
      "102   [0.4550756953576576, 0.8213403992301915, -0.10...              13   \n",
      "127   [0.494696917737035, 0.8639206144319231, -0.151...              13   \n",
      "...                                                 ...             ...   \n",
      "4741  [-1.4374939737683428, 0.7706486710815778, 0.04...              12   \n",
      "4744  [-0.7108641213622964, 0.0827357725112338, -0.1...               5   \n",
      "4752  [-0.3173173291071581, 0.46999240814212806, -0....              13   \n",
      "4760  [-1.273289017736989, 0.9701925651767714, 0.039...               7   \n",
      "4792  [-0.8281910961779709, 0.1015976252258692, 0.01...              10   \n",
      "\n",
      "      cluster_gmm  \n",
      "27              0  \n",
      "68              0  \n",
      "69              0  \n",
      "102             0  \n",
      "127             0  \n",
      "...           ...  \n",
      "4741            0  \n",
      "4744            0  \n",
      "4752            0  \n",
      "4760            0  \n",
      "4792            0  \n",
      "\n",
      "[291 rows x 11 columns]\n"
     ]
    },
    {
     "name": "stderr",
     "output_type": "stream",
     "text": [
      "C:\\Users\\andre\\AppData\\Local\\Temp\\ipykernel_19616\\140388933.py:12: SettingWithCopyWarning: \n",
      "A value is trying to be set on a copy of a slice from a DataFrame.\n",
      "Try using .loc[row_indexer,col_indexer] = value instead\n",
      "\n",
      "See the caveats in the documentation: https://pandas.pydata.org/pandas-docs/stable/user_guide/indexing.html#returning-a-view-versus-a-copy\n",
      "  df2[\"cluster_gmm\"] = cluster_labels\n"
     ]
    }
   ],
   "source": [
    "from sklearn.mixture import GaussianMixture\n",
    "\n",
    "\n",
    "#x_train_sample = np.array(df_sample['one_hot_overview'])\n",
    "x_train_pca = pca.fit_transform(x_train_reshaped)\n",
    "\n",
    "n_clusters = 20\n",
    "gmm = GaussianMixture(n_components=n_clusters)\n",
    "gmm.fit(x_train_pca)\n",
    "\n",
    "cluster_labels = gmm.predict(x_train_pca)\n",
    "df2[\"cluster_gmm\"] = cluster_labels\n",
    "\n",
    "# better since we can then compare to the other one\n",
    "cluster0_elements_GMM = df2[df2[\"cluster_gmm\"] == 0]\n",
    "print(cluster0_elements_GMM)"
   ]
  },
  {
   "cell_type": "markdown",
   "id": "95ed02d9",
   "metadata": {},
   "source": [
    "**Q4.2** Does this clustering seem alright to you (based on your movie watching history)? Are there movies that go well together and movies that don't? How does this compare to K-Means Clustering?"
   ]
  },
  {
   "cell_type": "markdown",
   "id": "c62e20dd",
   "metadata": {},
   "source": [
    "Iron man, mad max hunger games, those are good fits as all movies follow one character and their actions. Its also not using the word \"A\" as much anymore so it seems that it is using words that could be synonyms from the overview of texts."
   ]
  },
  {
   "cell_type": "markdown",
   "id": "3b0064a1",
   "metadata": {},
   "source": [
    "**Q4.3** Let's check out the size of the clusters. Create a double bar plot (**as you did in the last assignment**) showing the different sizes of the clusters.\n",
    "\n",
    "*Hint: you may want to consider `df.value_counts()` if you're unfamiliar.*"
   ]
  },
  {
   "cell_type": "code",
   "execution_count": 80,
   "id": "e775ad4f",
   "metadata": {},
   "outputs": [
    {
     "data": {
      "image/png": "[encoded data removed]",
      "text/plain": [
       "<Figure size 640x480 with 1 Axes>"
      ]
     },
     "metadata": {},
     "output_type": "display_data"
    }
   ],
   "source": [
    "cluster_sizes = df2[\"cluster_gmm\"].value_counts().sort_index()\n",
    "\n",
    "plt.bar(cluster_sizes.index, cluster_sizes.values)\n",
    "plt.xlabel(\"Cluster Label\")\n",
    "plt.ylabel(\"Cluster Size\")\n",
    "plt.title(\"Cluster Sizes\")\n",
    "plt.show()"
   ]
  },
  {
   "cell_type": "markdown",
   "id": "cfc124da",
   "metadata": {},
   "source": [
    "**Q4.4** Do you see a significant difference in the sizes of the clusters? Which is more uniform? Any thought on why?"
   ]
  },
  {
   "cell_type": "markdown",
   "id": "9f538519",
   "metadata": {},
   "source": [
    "If they were all the same that would be slightly concerning, because there are some more unique movies in the sample (documentaries for example). THey are different probably because of this reason, certain movies may be in nicher categories."
   ]
  },
  {
   "cell_type": "markdown",
   "id": "aa60615d",
   "metadata": {},
   "source": [
    "# Q6: A very simple recommender system\n",
    "\n",
    "One useful thing that clustering is often used for (though at a much greater complexity) is in **recommender systems**. These are systems with users and items (movies, files, documents, etc.), where new items are shown to the user based on what they've previously interacted with, and possibly also on the behaviour of other users.\n",
    "\n",
    "**Q6.1** Assume your dentist has just watched the movie Avatar and asks you for a recommendation. Lucky for you, you just finished this assignment. Using the cluster indices of the movie Avatar for both the K-means and GMM methods, print out suggestions for new movies."
   ]
  },
  {
   "cell_type": "code",
   "execution_count": 95,
   "id": "86a74f68",
   "metadata": {},
   "outputs": [
    {
     "name": "stdout",
     "output_type": "stream",
     "text": [
      "1       Pirates of the Caribbean: At World's End\n",
      "10                              Superman Returns\n",
      "62                          The Legend of Tarzan\n",
      "86                           Shrek Forever After\n",
      "115                                      Hancock\n",
      "                          ...                   \n",
      "4777                                 Dutch Kills\n",
      "4778                                   Dry Spell\n",
      "4779                                    Flywheel\n",
      "4786                                       Clean\n",
      "4798                            Shanghai Calling\n",
      "Name: title, Length: 301, dtype: object\n"
     ]
    }
   ],
   "source": [
    "prev_watch = \"Pirates of the Caribbean: At World's End\"\n",
    "\n",
    "cluster_kmeans = df2.loc[df2[\"title\"] == prev_watch, \"cluster_kmeans\"].values[0]\n",
    "\n",
    "cluster_gmm = df2.loc[df2[\"title\"] == prev_watch, \"cluster_gmm\"].values[0]\n",
    "\n",
    "\n",
    "similar_movies_gmm = df2[df2[\"cluster_gmm\"] == cluster_gmm]\n",
    "print(similar_movies_gmm[\"title\"])\n",
    "\n",
    "\n"
   ]
  },
  {
   "cell_type": "code",
   "execution_count": 96,
   "id": "7191489d",
   "metadata": {},
   "outputs": [
    {
     "name": "stdout",
     "output_type": "stream",
     "text": [
      "1       Pirates of the Caribbean: At World's End\n",
      "7                        Avengers: Age of Ultron\n",
      "10                              Superman Returns\n",
      "86                           Shrek Forever After\n",
      "105              Alice Through the Looking Glass\n",
      "                          ...                   \n",
      "4761                   Dawn of the Crescent Moon\n",
      "4772                                 Funny Ha Ha\n",
      "4777                                 Dutch Kills\n",
      "4779                                    Flywheel\n",
      "4798                            Shanghai Calling\n",
      "Name: title, Length: 303, dtype: object\n"
     ]
    }
   ],
   "source": [
    "similar_movies_kmeans = df2[df2[\"cluster_kmeans\"] == cluster_kmeans]\n",
    "print(similar_movies_kmeans[\"title\"])"
   ]
  },
  {
   "cell_type": "markdown",
   "id": "4ecec1ff",
   "metadata": {},
   "source": [
    "**Q6.2** Are any of the two recommender systems any good? Would you use them if your real dentist asks for a movie suggestion?"
   ]
  },
  {
   "cell_type": "markdown",
   "id": "aae96b8a",
   "metadata": {},
   "source": [
    "I switched to Pirates of the Carribean, because i had not seen any of the movies related to avatar. I mean avengers and shrek and alice in the wonderland are also movies based on a team of protaognists and their adventure?"
   ]
  },
  {
   "cell_type": "markdown",
   "id": "92b84753",
   "metadata": {},
   "source": [
    "**Q6.3** How would you try making the recommender systems better?"
   ]
  },
  {
   "cell_type": "markdown",
   "id": "40d3f6dd",
   "metadata": {},
   "source": [
    "Use year of release as well?"
   ]
  },
  {
   "cell_type": "markdown",
   "id": "7df2d34a",
   "metadata": {},
   "source": [
    "**Q6.4** Say your dentist likes the movies you suggested and has watched a few more since you met him last. How would you incorporate this fact (recommendation based on multiple movies) into your suggestions?"
   ]
  },
  {
   "cell_type": "markdown",
   "id": "b3549de4",
   "metadata": {},
   "source": [
    "I would add those to a list and use that list to help at predicting even better titles\n"
   ]
  },
  {
   "cell_type": "markdown",
   "id": "f20b74ce",
   "metadata": {},
   "source": [
    "**Q6.5** An alternative method for recommendations is to use your encoded movie-feature vectors (in this case your overview+PCA vector) in order to find out what movie may be most similar to the current one. In the case of K-Means and GMMs, \"similarity\" referred to Euclidean distance. However, in this exercise, we will use *cosine similarity*, which is another very common similarity measure, and is related to the angle between two vectors. It is defined as:\n",
    "\n",
    "$$sim(v_1, v_2)=\\frac{v_1\\cdot v_2}{||v_1||\\cdot||v_2||}$$\n",
    "\n",
    "Where $v_1$ and $v_2$ are vectors and the operator $||\\cdot||$ is the norm of the vector. The function ranges from $[-1,1]$ (where 1 means that the vectors point in the same direction).\n",
    "\n",
    "Define an appropriate function `cosine_sim`. Add a column called `cos_sim_to_avatar` in the df and print out the head of the df, sorted by the similarity. What movies would you recommend now? Is this better than the clustering methods?"
   ]
  },
  {
   "cell_type": "code",
   "execution_count": null,
   "id": "cedf60f3",
   "metadata": {},
   "outputs": [],
   "source": [
    "def cosine_sim(v1, v2):\n",
    "    return ...\n",
    "\n",
    "# get overview_pca encoding of previously watched film\n",
    "prev_watch_enc = ...\n",
    "\n",
    "sims = [] # set up place to store similarities\n",
    "for i, row in df.iterrows():\n",
    "    sims.append(...)\n",
    "\n",
    "df[\"cos_sim_to_avatar\"] = ...\n",
    "df = df.sort_values(...) # sort df\n",
    "df # print to verify"
   ]
  },
  {
   "cell_type": "markdown",
   "id": "40391e82",
   "metadata": {},
   "source": [
    "Not sure how to do this or even start..."
   ]
  },
  {
   "cell_type": "markdown",
   "id": "a7b1e343",
   "metadata": {},
   "source": [
    "# Q7 Unsupervised Learning as a Tool\n",
    "\n",
    "At the end of this brief forey into natural language processing, we will end with an interesting task: can a machine predict the genre of a movie based purely on the first 10 words of its overview?\n",
    "\n",
    "First, the following cell shuffles the dataset and splits it into a training and test set. The random seed and random state ensure that the train and test samples are the same for you all the time, and *probably* your classmates too. You can verify this by printing out the dataframes and checking it for yourself."
   ]
  },
  {
   "cell_type": "code",
   "execution_count": null,
   "id": "f5b1bde1",
   "metadata": {},
   "outputs": [],
   "source": [
    "np.random.seed(0)\n",
    "n_train = int(0.8*len(df))\n",
    "df_shuffle = df.sample(frac=1, random_state=42).reset_index(drop=True)\n",
    "df_train = df_shuffle[:n_train].reset_index(drop=True)\n",
    "df_test = df_shuffle[n_train:].reset_index(drop=True)\n",
    "print(len(df_train), len(df_test))"
   ]
  },
  {
   "cell_type": "markdown",
   "id": "92f9d534",
   "metadata": {},
   "source": [
    "## Train, test, evaluate\n",
    "\n",
    "Using a supervised learning method of your choice, try predicting the genre of a movie from the overview. The way you preprocess your data is up to you, and you can take inspiration from the above exercises (e.g. PCA on the one-hot encodings as input, one-hot label encodings as output). There are a number of hyperparameters you can choose depending on your selected method (number of words in your overview, number of dimensions, number of clusters, hyperparameters of your supervised model...), thus, make sure to perform hyperparameter optimization in some way (grid-search, fine-tuning, etc). Once you are happy with how your model is performing, **print out the train_score (accuracy$\\in[0,1]$), test_score (accuracy$\\in[0,1]$), mean training time (in seconds), and mean inference time (in seconds) of your model**.\n",
    "\n",
    "If you are already excited about neural networks, you may also choose to use that as your supervised method. The easiest way to do it is with sklearn's `MLPClassifier` module. The main hyperparameter you would need to tune is the architecture of your model -- how many hidden layers, and how large is each one. For this task, in order to get best performance, you do not necessarily need an MLP (multi-layer perceptron) but feel free to experiment.\n",
    "\n",
    "*Hint: the `train_and_eval` function from the last assignment should be of great help here*"
   ]
  },
  {
   "cell_type": "code",
   "execution_count": null,
   "id": "e9ac379d",
   "metadata": {},
   "outputs": [],
   "source": [
    "# your code here: feel free to add extra cells"
   ]
  },
  {
   "cell_type": "markdown",
   "id": "5976997e",
   "metadata": {},
   "source": [
    "Write a paragraph of ~150 words about how you went about selecting and tuning your model, and how you may want to make improvements to your model if you were to continue working on this. Plots are very good but not strictly necessary (i.e. try to add plots if you can)."
   ]
  },
  {
   "cell_type": "markdown",
   "id": "54186a60",
   "metadata": {},
   "source": [
    "*Your text answer here*"
   ]
  },
  {
   "cell_type": "markdown",
   "id": "14b50007",
   "metadata": {},
   "source": [
    "# BONUS\n",
    "\n",
    "If you are happy with your score and wish to see how well it is doing with respect to other people (a sort of mini-competition), fill out the following form with the train_score (accuracy$\\in[0,1]$), test_score (accuracy$\\in[0,1]$), mean training time (in seconds), and mean inference time (in seconds) of your model, as well as what method you use. You can submit as many times before the deadline as you wish. Your final results will be correlated with your submission in order to validate your results (if we cannot validate them, they will be immediately disqualified).\n",
    "\n",
    "[FORM HERE](https://forms.gle/rXRtXScABH5oDLRWA)"
   ]
  }
 ],
 "metadata": {
  "kernelspec": {
   "display_name": "Python 3 (ipykernel)",
   "language": "python",
   "name": "python3"
  },
  "language_info": {
   "codemirror_mode": {
    "name": "ipython",
    "version": 3
   },
   "file_extension": ".py",
   "mimetype": "text/x-python",
   "name": "python",
   "nbconvert_exporter": "python",
   "pygments_lexer": "ipython3",
   "version": "3.11.4"
  }
 },
 "nbformat": 4,
 "nbformat_minor": 5
}
